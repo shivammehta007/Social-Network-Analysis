{
  "nbformat": 4,
  "nbformat_minor": 0,
  "metadata": {
    "kernelspec": {
      "display_name": "Python 3",
      "language": "python",
      "name": "python3"
    },
    "language_info": {
      "codemirror_mode": {
        "name": "ipython",
        "version": 3
      },
      "file_extension": ".py",
      "mimetype": "text/x-python",
      "name": "python",
      "nbconvert_exporter": "python",
      "pygments_lexer": "ipython3",
      "version": "3.6.9"
    },
    "colab": {
      "name": "Demographic_Prediction.ipynb",
      "provenance": [],
      "toc_visible": true,
      "include_colab_link": true
    }
  },
  "cells": [
    {
      "cell_type": "markdown",
      "metadata": {
        "id": "view-in-github",
        "colab_type": "text"
      },
      "source": [
        "<a href=\"https://colab.research.google.com/github/shivammehta007/Social-Network-Analysis/blob/master/Demographic_Prediction.ipynb\" target=\"_parent\"><img src=\"https://colab.research.google.com/assets/colab-badge.svg\" alt=\"Open In Colab\"/></a>"
      ]
    },
    {
      "cell_type": "markdown",
      "metadata": {
        "id": "_Ck3VSnAHdWz",
        "colab_type": "text"
      },
      "source": [
        "# Predictiing Demographic Information"
      ]
    },
    {
      "cell_type": "code",
      "metadata": {
        "id": "nybkTIEmMUkt",
        "colab_type": "code",
        "colab": {
          "base_uri": "https://localhost:8080/",
          "height": 122
        },
        "outputId": "3afdbaf0-cf33-41f1-e662-15a39d84487e"
      },
      "source": [
        "from google.colab import drive\n",
        "drive.mount('/content/drive')"
      ],
      "execution_count": 4,
      "outputs": [
        {
          "output_type": "stream",
          "text": [
            "Go to this URL in a browser: https://accounts.google.com/o/oauth2/auth?client_id=947318989803-6bn6qk8qdgf4n4g3pfee6491hc0brc4i.apps.googleusercontent.com&redirect_uri=urn%3aietf%3awg%3aoauth%3a2.0%3aoob&response_type=code&scope=email%20https%3a%2f%2fwww.googleapis.com%2fauth%2fdocs.test%20https%3a%2f%2fwww.googleapis.com%2fauth%2fdrive%20https%3a%2f%2fwww.googleapis.com%2fauth%2fdrive.photos.readonly%20https%3a%2f%2fwww.googleapis.com%2fauth%2fpeopleapi.readonly\n",
            "\n",
            "Enter your authorization code:\n",
            "··········\n",
            "Mounted at /content/drive\n"
          ],
          "name": "stdout"
        }
      ]
    },
    {
      "cell_type": "markdown",
      "metadata": {
        "id": "YzoEd2mUHXwS",
        "colab_type": "text"
      },
      "source": [
        "## Imports"
      ]
    },
    {
      "cell_type": "code",
      "metadata": {
        "id": "Ll-1Nl5_M7Lw",
        "colab_type": "code",
        "colab": {}
      },
      "source": [
        "import os\n",
        "import numpy as np\n",
        "import pandas as pd\n",
        "import matplotlib.pyplot as plt\n",
        "import random\n",
        "import seaborn as sns\n",
        "from sklearn.feature_extraction.text import CountVectorizer\n",
        "from sklearn.preprocessing import LabelEncoder\n",
        "from sklearn.model_selection import train_test_split\n",
        "from sklearn.model_selection import GridSearchCV\n",
        "from sklearn.svm import SVC\n",
        "import scipy.sparse as sp\n",
        "from sklearn.metrics import f1_score, accuracy_score\n",
        "from sklearn.ensemble import RandomForestClassifier, VotingClassifier\n",
        "from sklearn.neural_network import MLPClassifier\n",
        "\n",
        "\n",
        "%matplotlib inline\n",
        "# Setting up custom random seeds,\n",
        "SEED = 1234\n",
        "torch.manual_seed(SEED)\n",
        "torch.cuda.manual_seed(SEED)\n",
        "np.random.seed(SEED)\n",
        "torch.backends.cudnn.deterministic = True\n",
        "random.seed(SEED)\n"
      ],
      "execution_count": 0,
      "outputs": []
    },
    {
      "cell_type": "markdown",
      "metadata": {
        "id": "_wNajvtIQlB-",
        "colab_type": "text"
      },
      "source": [
        "## Opening Data"
      ]
    },
    {
      "cell_type": "code",
      "metadata": {
        "id": "_fS5hHy8MVsW",
        "colab_type": "code",
        "colab": {}
      },
      "source": [
        "data_path = os.path.join('drive', 'My Drive', 'Colab Notebooks', 'SNA Lab', 'SNA-Lab3')\n",
        "file_london = pd.read_csv(os.path.join(data_path, 'LondonTrain.csv'))\n",
        "file_newyork = pd.read_csv(os.path.join(data_path, 'NYTrain.csv'))\n",
        "file_singapore = pd.read_csv(os.path.join(data_path, 'SingaporeTrain.csv'))"
      ],
      "execution_count": 0,
      "outputs": []
    },
    {
      "cell_type": "markdown",
      "metadata": {
        "id": "5lMiciJcQT-B",
        "colab_type": "text"
      },
      "source": [
        "## EDA: Exploratory Data Analysis"
      ]
    },
    {
      "cell_type": "markdown",
      "metadata": {
        "id": "xkjhauYGQbQN",
        "colab_type": "text"
      },
      "source": [
        "### Heads"
      ]
    },
    {
      "cell_type": "code",
      "metadata": {
        "id": "CLErAX_eWWDp",
        "colab_type": "code",
        "colab": {}
      },
      "source": [
        "# Dropping Row ID\n",
        "file_london.drop(['row ID'], axis=1, inplace=True)\n",
        "file_newyork.drop(['row ID'], axis=1, inplace=True)\n",
        "file_singapore.drop(['row ID'], axis=1, inplace=True)"
      ],
      "execution_count": 0,
      "outputs": []
    },
    {
      "cell_type": "code",
      "metadata": {
        "id": "VXh9F0UxM4mO",
        "colab_type": "code",
        "colab": {
          "base_uri": "https://localhost:8080/",
          "height": 306
        },
        "outputId": "7251012c-a465-4e63-e227-d1648327e62e"
      },
      "source": [
        "file_london.head()"
      ],
      "execution_count": 7,
      "outputs": [
        {
          "output_type": "execute_result",
          "data": {
            "text/html": [
              "<div>\n",
              "<style scoped>\n",
              "    .dataframe tbody tr th:only-of-type {\n",
              "        vertical-align: middle;\n",
              "    }\n",
              "\n",
              "    .dataframe tbody tr th {\n",
              "        vertical-align: top;\n",
              "    }\n",
              "\n",
              "    .dataframe thead th {\n",
              "        text-align: right;\n",
              "    }\n",
              "</style>\n",
              "<table border=\"1\" class=\"dataframe\">\n",
              "  <thead>\n",
              "    <tr style=\"text-align: right;\">\n",
              "      <th></th>\n",
              "      <th>educationInfoForAgeGroupEstimation</th>\n",
              "      <th>workInfoForAgeGroupEstimation</th>\n",
              "      <th>gender</th>\n",
              "      <th>realAge</th>\n",
              "      <th>ageGroup</th>\n",
              "      <th>relationship</th>\n",
              "      <th>educationLevel</th>\n",
              "      <th>occupation</th>\n",
              "      <th>income</th>\n",
              "    </tr>\n",
              "  </thead>\n",
              "  <tbody>\n",
              "    <tr>\n",
              "      <th>0</th>\n",
              "      <td>NaN</td>\n",
              "      <td>NaN</td>\n",
              "      <td>female</td>\n",
              "      <td>NaN</td>\n",
              "      <td>NaN</td>\n",
              "      <td>NaN</td>\n",
              "      <td>NaN</td>\n",
              "      <td>NaN</td>\n",
              "      <td>NaN</td>\n",
              "    </tr>\n",
              "    <tr>\n",
              "      <th>1</th>\n",
              "      <td>NaN</td>\n",
              "      <td>Edenred Employee Benefits Advisor  November 20...</td>\n",
              "      <td>female</td>\n",
              "      <td>NaN</td>\n",
              "      <td>NaN</td>\n",
              "      <td>NaN</td>\n",
              "      <td>NaN</td>\n",
              "      <td>personal care and service</td>\n",
              "      <td>NaN</td>\n",
              "    </tr>\n",
              "    <tr>\n",
              "      <th>2</th>\n",
              "      <td>Uppsala University Egyptology  Uppsala, Sweden</td>\n",
              "      <td>NaN</td>\n",
              "      <td>male</td>\n",
              "      <td>NaN</td>\n",
              "      <td>NaN</td>\n",
              "      <td>NaN</td>\n",
              "      <td>undergraduate</td>\n",
              "      <td>NaN</td>\n",
              "      <td>NaN</td>\n",
              "    </tr>\n",
              "    <tr>\n",
              "      <th>3</th>\n",
              "      <td>NaN</td>\n",
              "      <td>Booking.com Cambridge, Cambridgeshire</td>\n",
              "      <td>male</td>\n",
              "      <td>NaN</td>\n",
              "      <td>NaN</td>\n",
              "      <td>NaN</td>\n",
              "      <td>NaN</td>\n",
              "      <td>NaN</td>\n",
              "      <td>NaN</td>\n",
              "    </tr>\n",
              "    <tr>\n",
              "      <th>4</th>\n",
              "      <td>University of Verona 2008 to 2010  Nursing  Ve...</td>\n",
              "      <td>Coogee Pavilion Pizza Chef  13 April 2015 to p...</td>\n",
              "      <td>male</td>\n",
              "      <td>NaN</td>\n",
              "      <td>NaN</td>\n",
              "      <td>single</td>\n",
              "      <td>undergraduate</td>\n",
              "      <td>food preparation and service related</td>\n",
              "      <td>NaN</td>\n",
              "    </tr>\n",
              "  </tbody>\n",
              "</table>\n",
              "</div>"
            ],
            "text/plain": [
              "                  educationInfoForAgeGroupEstimation  ... income\n",
              "0                                                NaN  ...    NaN\n",
              "1                                                NaN  ...    NaN\n",
              "2     Uppsala University Egyptology  Uppsala, Sweden  ...    NaN\n",
              "3                                                NaN  ...    NaN\n",
              "4  University of Verona 2008 to 2010  Nursing  Ve...  ...    NaN\n",
              "\n",
              "[5 rows x 9 columns]"
            ]
          },
          "metadata": {
            "tags": []
          },
          "execution_count": 7
        }
      ]
    },
    {
      "cell_type": "code",
      "metadata": {
        "id": "Nkd3ni68NO-W",
        "colab_type": "code",
        "colab": {
          "base_uri": "https://localhost:8080/",
          "height": 255
        },
        "outputId": "8f6a3389-0c81-4766-c44c-85d21ccecd2b"
      },
      "source": [
        "file_newyork.head()"
      ],
      "execution_count": 8,
      "outputs": [
        {
          "output_type": "execute_result",
          "data": {
            "text/html": [
              "<div>\n",
              "<style scoped>\n",
              "    .dataframe tbody tr th:only-of-type {\n",
              "        vertical-align: middle;\n",
              "    }\n",
              "\n",
              "    .dataframe tbody tr th {\n",
              "        vertical-align: top;\n",
              "    }\n",
              "\n",
              "    .dataframe thead th {\n",
              "        text-align: right;\n",
              "    }\n",
              "</style>\n",
              "<table border=\"1\" class=\"dataframe\">\n",
              "  <thead>\n",
              "    <tr style=\"text-align: right;\">\n",
              "      <th></th>\n",
              "      <th>educationInfoForAgeGroupEstimation</th>\n",
              "      <th>workInfoForAgeGroupEstimation</th>\n",
              "      <th>gender</th>\n",
              "      <th>realAge</th>\n",
              "      <th>ageGroup</th>\n",
              "      <th>relationship</th>\n",
              "      <th>educationLevel</th>\n",
              "      <th>occupation</th>\n",
              "      <th>income</th>\n",
              "    </tr>\n",
              "  </thead>\n",
              "  <tbody>\n",
              "    <tr>\n",
              "      <th>0</th>\n",
              "      <td>Universidad Santo Toms Class of 2009  Psycholo...</td>\n",
              "      <td>GMO Chile Analista de Seleccin y Desarrollo  A...</td>\n",
              "      <td>female</td>\n",
              "      <td>NaN</td>\n",
              "      <td>NaN</td>\n",
              "      <td>NaN</td>\n",
              "      <td>NaN</td>\n",
              "      <td>NaN</td>\n",
              "      <td>NaN</td>\n",
              "    </tr>\n",
              "    <tr>\n",
              "      <th>1</th>\n",
              "      <td>NaN</td>\n",
              "      <td>NaN</td>\n",
              "      <td>male</td>\n",
              "      <td>NaN</td>\n",
              "      <td>NaN</td>\n",
              "      <td>NaN</td>\n",
              "      <td>NaN</td>\n",
              "      <td>NaN</td>\n",
              "      <td>NaN</td>\n",
              "    </tr>\n",
              "    <tr>\n",
              "      <th>2</th>\n",
              "      <td>NaN</td>\n",
              "      <td>NaN</td>\n",
              "      <td>male</td>\n",
              "      <td>NaN</td>\n",
              "      <td>NaN</td>\n",
              "      <td>in a relationship</td>\n",
              "      <td>NaN</td>\n",
              "      <td>NaN</td>\n",
              "      <td>NaN</td>\n",
              "    </tr>\n",
              "    <tr>\n",
              "      <th>3</th>\n",
              "      <td>NaN</td>\n",
              "      <td>Commonwealth of Massachusetts Legislative Aide...</td>\n",
              "      <td>male</td>\n",
              "      <td>NaN</td>\n",
              "      <td>NaN</td>\n",
              "      <td>NaN</td>\n",
              "      <td>NaN</td>\n",
              "      <td>healthcare support</td>\n",
              "      <td>NaN</td>\n",
              "    </tr>\n",
              "    <tr>\n",
              "      <th>4</th>\n",
              "      <td>NaN</td>\n",
              "      <td>Mindshare Pan Regional Director  1 October 201...</td>\n",
              "      <td>female</td>\n",
              "      <td>NaN</td>\n",
              "      <td>NaN</td>\n",
              "      <td>NaN</td>\n",
              "      <td>NaN</td>\n",
              "      <td>management</td>\n",
              "      <td>NaN</td>\n",
              "    </tr>\n",
              "  </tbody>\n",
              "</table>\n",
              "</div>"
            ],
            "text/plain": [
              "                  educationInfoForAgeGroupEstimation  ... income\n",
              "0  Universidad Santo Toms Class of 2009  Psycholo...  ...    NaN\n",
              "1                                                NaN  ...    NaN\n",
              "2                                                NaN  ...    NaN\n",
              "3                                                NaN  ...    NaN\n",
              "4                                                NaN  ...    NaN\n",
              "\n",
              "[5 rows x 9 columns]"
            ]
          },
          "metadata": {
            "tags": []
          },
          "execution_count": 8
        }
      ]
    },
    {
      "cell_type": "code",
      "metadata": {
        "id": "A0tEshH8QPIj",
        "colab_type": "code",
        "colab": {
          "base_uri": "https://localhost:8080/",
          "height": 272
        },
        "outputId": "fa2dff57-391b-496e-d354-e8886eda79ff"
      },
      "source": [
        "file_singapore.head()"
      ],
      "execution_count": 9,
      "outputs": [
        {
          "output_type": "execute_result",
          "data": {
            "text/html": [
              "<div>\n",
              "<style scoped>\n",
              "    .dataframe tbody tr th:only-of-type {\n",
              "        vertical-align: middle;\n",
              "    }\n",
              "\n",
              "    .dataframe tbody tr th {\n",
              "        vertical-align: top;\n",
              "    }\n",
              "\n",
              "    .dataframe thead th {\n",
              "        text-align: right;\n",
              "    }\n",
              "</style>\n",
              "<table border=\"1\" class=\"dataframe\">\n",
              "  <thead>\n",
              "    <tr style=\"text-align: right;\">\n",
              "      <th></th>\n",
              "      <th>educationInfoForAgeGroupEstimation</th>\n",
              "      <th>workInfoForAgeGroupEstimation</th>\n",
              "      <th>gender</th>\n",
              "      <th>realAge</th>\n",
              "      <th>ageGroup</th>\n",
              "      <th>relationship</th>\n",
              "      <th>educationLevel</th>\n",
              "      <th>occupation</th>\n",
              "      <th>income</th>\n",
              "    </tr>\n",
              "  </thead>\n",
              "  <tbody>\n",
              "    <tr>\n",
              "      <th>0</th>\n",
              "      <td>NaN</td>\n",
              "      <td>NaN</td>\n",
              "      <td>female</td>\n",
              "      <td>NaN</td>\n",
              "      <td>NaN</td>\n",
              "      <td>NaN</td>\n",
              "      <td>NaN</td>\n",
              "      <td>NaN</td>\n",
              "      <td>NaN</td>\n",
              "    </tr>\n",
              "    <tr>\n",
              "      <th>1</th>\n",
              "      <td>Bukit Batok Secondary School ITE College West ...</td>\n",
              "      <td>NaN</td>\n",
              "      <td>female</td>\n",
              "      <td>NaN</td>\n",
              "      <td>NaN</td>\n",
              "      <td>NaN</td>\n",
              "      <td>college</td>\n",
              "      <td>NaN</td>\n",
              "      <td>NaN</td>\n",
              "    </tr>\n",
              "    <tr>\n",
              "      <th>2</th>\n",
              "      <td>St Patrick&amp;#039;s School, Singapore Class of 2...</td>\n",
              "      <td>NaN</td>\n",
              "      <td>male</td>\n",
              "      <td>NaN</td>\n",
              "      <td>AGE10_20</td>\n",
              "      <td>single</td>\n",
              "      <td>college</td>\n",
              "      <td>NaN</td>\n",
              "      <td>NaN</td>\n",
              "    </tr>\n",
              "    <tr>\n",
              "      <th>3</th>\n",
              "      <td>NaN</td>\n",
              "      <td>NaN</td>\n",
              "      <td>female</td>\n",
              "      <td>NaN</td>\n",
              "      <td>NaN</td>\n",
              "      <td>NaN</td>\n",
              "      <td>NaN</td>\n",
              "      <td>NaN</td>\n",
              "      <td>$$</td>\n",
              "    </tr>\n",
              "    <tr>\n",
              "      <th>4</th>\n",
              "      <td>NaN</td>\n",
              "      <td>PT. Duta Marga Lestarindo September 2013 to pr...</td>\n",
              "      <td>female</td>\n",
              "      <td>NaN</td>\n",
              "      <td>NaN</td>\n",
              "      <td>NaN</td>\n",
              "      <td>NaN</td>\n",
              "      <td>archetecture and engineering</td>\n",
              "      <td>NaN</td>\n",
              "    </tr>\n",
              "  </tbody>\n",
              "</table>\n",
              "</div>"
            ],
            "text/plain": [
              "                  educationInfoForAgeGroupEstimation  ... income\n",
              "0                                                NaN  ...    NaN\n",
              "1  Bukit Batok Secondary School ITE College West ...  ...    NaN\n",
              "2  St Patrick&#039;s School, Singapore Class of 2...  ...    NaN\n",
              "3                                                NaN  ...     $$\n",
              "4                                                NaN  ...    NaN\n",
              "\n",
              "[5 rows x 9 columns]"
            ]
          },
          "metadata": {
            "tags": []
          },
          "execution_count": 9
        }
      ]
    },
    {
      "cell_type": "code",
      "metadata": {
        "id": "7SPWr3A7akQU",
        "colab_type": "code",
        "colab": {
          "base_uri": "https://localhost:8080/",
          "height": 187
        },
        "outputId": "f5f846e1-b699-4c45-adb3-b03698e85bd7"
      },
      "source": [
        "file_singapore.isnull().sum(axis=0) "
      ],
      "execution_count": 10,
      "outputs": [
        {
          "output_type": "execute_result",
          "data": {
            "text/plain": [
              "educationInfoForAgeGroupEstimation    2498\n",
              "workInfoForAgeGroupEstimation         3063\n",
              "gender                                  11\n",
              "realAge                               4500\n",
              "ageGroup                              3640\n",
              "relationship                          3584\n",
              "educationLevel                        3073\n",
              "occupation                            3856\n",
              "income                                4320\n",
              "dtype: int64"
            ]
          },
          "metadata": {
            "tags": []
          },
          "execution_count": 10
        }
      ]
    },
    {
      "cell_type": "code",
      "metadata": {
        "id": "EwwlrjF5azMj",
        "colab_type": "code",
        "colab": {
          "base_uri": "https://localhost:8080/",
          "height": 170
        },
        "outputId": "20a399be-3199-4e83-ac8e-d7fbca2f55b7"
      },
      "source": [
        "column_names = file_singapore.columns\n",
        "for i in column_names:\n",
        "    print('{} Value Length : {}'.format(i, len(file_newyork[i].unique())))"
      ],
      "execution_count": 11,
      "outputs": [
        {
          "output_type": "stream",
          "text": [
            "educationInfoForAgeGroupEstimation Value Length : 674\n",
            "workInfoForAgeGroupEstimation Value Length : 947\n",
            "gender Value Length : 3\n",
            "realAge Value Length : 1\n",
            "ageGroup Value Length : 1\n",
            "relationship Value Length : 4\n",
            "educationLevel Value Length : 5\n",
            "occupation Value Length : 22\n",
            "income Value Length : 5\n"
          ],
          "name": "stdout"
        }
      ]
    },
    {
      "cell_type": "code",
      "metadata": {
        "id": "yt7Yem3Gg894",
        "colab_type": "code",
        "colab": {}
      },
      "source": [
        "# Add city column in each and merge them\n",
        "file_london['city'] = 'London'\n",
        "file_newyork['city'] = 'New York'\n",
        "file_singapore['city'] = 'Singapore'\n",
        "\n",
        "train_data = pd.concat([file_london, file_newyork, file_singapore])"
      ],
      "execution_count": 0,
      "outputs": []
    },
    {
      "cell_type": "code",
      "metadata": {
        "id": "uR7ixMp5hYy7",
        "colab_type": "code",
        "colab": {
          "base_uri": "https://localhost:8080/",
          "height": 326
        },
        "outputId": "3f23e7f0-a329-4a1e-caeb-7f2c4b026cbd"
      },
      "source": [
        "train_data.head()"
      ],
      "execution_count": 13,
      "outputs": [
        {
          "output_type": "execute_result",
          "data": {
            "text/html": [
              "<div>\n",
              "<style scoped>\n",
              "    .dataframe tbody tr th:only-of-type {\n",
              "        vertical-align: middle;\n",
              "    }\n",
              "\n",
              "    .dataframe tbody tr th {\n",
              "        vertical-align: top;\n",
              "    }\n",
              "\n",
              "    .dataframe thead th {\n",
              "        text-align: right;\n",
              "    }\n",
              "</style>\n",
              "<table border=\"1\" class=\"dataframe\">\n",
              "  <thead>\n",
              "    <tr style=\"text-align: right;\">\n",
              "      <th></th>\n",
              "      <th>educationInfoForAgeGroupEstimation</th>\n",
              "      <th>workInfoForAgeGroupEstimation</th>\n",
              "      <th>gender</th>\n",
              "      <th>realAge</th>\n",
              "      <th>ageGroup</th>\n",
              "      <th>relationship</th>\n",
              "      <th>educationLevel</th>\n",
              "      <th>occupation</th>\n",
              "      <th>income</th>\n",
              "      <th>city</th>\n",
              "    </tr>\n",
              "  </thead>\n",
              "  <tbody>\n",
              "    <tr>\n",
              "      <th>0</th>\n",
              "      <td>NaN</td>\n",
              "      <td>NaN</td>\n",
              "      <td>female</td>\n",
              "      <td>NaN</td>\n",
              "      <td>NaN</td>\n",
              "      <td>NaN</td>\n",
              "      <td>NaN</td>\n",
              "      <td>NaN</td>\n",
              "      <td>NaN</td>\n",
              "      <td>London</td>\n",
              "    </tr>\n",
              "    <tr>\n",
              "      <th>1</th>\n",
              "      <td>NaN</td>\n",
              "      <td>Edenred Employee Benefits Advisor  November 20...</td>\n",
              "      <td>female</td>\n",
              "      <td>NaN</td>\n",
              "      <td>NaN</td>\n",
              "      <td>NaN</td>\n",
              "      <td>NaN</td>\n",
              "      <td>personal care and service</td>\n",
              "      <td>NaN</td>\n",
              "      <td>London</td>\n",
              "    </tr>\n",
              "    <tr>\n",
              "      <th>2</th>\n",
              "      <td>Uppsala University Egyptology  Uppsala, Sweden</td>\n",
              "      <td>NaN</td>\n",
              "      <td>male</td>\n",
              "      <td>NaN</td>\n",
              "      <td>NaN</td>\n",
              "      <td>NaN</td>\n",
              "      <td>undergraduate</td>\n",
              "      <td>NaN</td>\n",
              "      <td>NaN</td>\n",
              "      <td>London</td>\n",
              "    </tr>\n",
              "    <tr>\n",
              "      <th>3</th>\n",
              "      <td>NaN</td>\n",
              "      <td>Booking.com Cambridge, Cambridgeshire</td>\n",
              "      <td>male</td>\n",
              "      <td>NaN</td>\n",
              "      <td>NaN</td>\n",
              "      <td>NaN</td>\n",
              "      <td>NaN</td>\n",
              "      <td>NaN</td>\n",
              "      <td>NaN</td>\n",
              "      <td>London</td>\n",
              "    </tr>\n",
              "    <tr>\n",
              "      <th>4</th>\n",
              "      <td>University of Verona 2008 to 2010  Nursing  Ve...</td>\n",
              "      <td>Coogee Pavilion Pizza Chef  13 April 2015 to p...</td>\n",
              "      <td>male</td>\n",
              "      <td>NaN</td>\n",
              "      <td>NaN</td>\n",
              "      <td>single</td>\n",
              "      <td>undergraduate</td>\n",
              "      <td>food preparation and service related</td>\n",
              "      <td>NaN</td>\n",
              "      <td>London</td>\n",
              "    </tr>\n",
              "  </tbody>\n",
              "</table>\n",
              "</div>"
            ],
            "text/plain": [
              "                  educationInfoForAgeGroupEstimation  ...    city\n",
              "0                                                NaN  ...  London\n",
              "1                                                NaN  ...  London\n",
              "2     Uppsala University Egyptology  Uppsala, Sweden  ...  London\n",
              "3                                                NaN  ...  London\n",
              "4  University of Verona 2008 to 2010  Nursing  Ve...  ...  London\n",
              "\n",
              "[5 rows x 10 columns]"
            ]
          },
          "metadata": {
            "tags": []
          },
          "execution_count": 13
        }
      ]
    },
    {
      "cell_type": "markdown",
      "metadata": {
        "id": "jfTtYcL5SVpf",
        "colab_type": "text"
      },
      "source": [
        "### EDA"
      ]
    },
    {
      "cell_type": "code",
      "metadata": {
        "id": "F4tHK-U0SX4Q",
        "colab_type": "code",
        "colab": {
          "base_uri": "https://localhost:8080/",
          "height": 258
        },
        "outputId": "16478763-71a0-4f67-af76-c7e09454fa3b"
      },
      "source": [
        "# Age Analysis\n",
        "fig, axis = plt.subplots(1, 3)\n",
        "sns.boxplot(y=file_london['realAge'], ax=axis[0])\n",
        "sns.boxplot(y=file_newyork['realAge'], ax=axis[1])\n",
        "sns.boxplot(y=file_singapore['realAge'], ax=axis[2])\n",
        "plt.show()"
      ],
      "execution_count": 14,
      "outputs": [
        {
          "output_type": "display_data",
          "data": {
            "image/png": "[encoded data removed]",
            "text/plain": [
              "<Figure size 432x288 with 3 Axes>"
            ]
          },
          "metadata": {
            "tags": []
          }
        }
      ]
    },
    {
      "cell_type": "code",
      "metadata": {
        "id": "9xEM2MVxT0Bh",
        "colab_type": "code",
        "colab": {
          "base_uri": "https://localhost:8080/",
          "height": 34
        },
        "outputId": "7778a953-a78a-4c60-84c5-07d5076c6d26"
      },
      "source": [
        "print(file_london['ageGroup'].unique(), file_newyork['ageGroup'].unique(), file_singapore['ageGroup'].unique())"
      ],
      "execution_count": 15,
      "outputs": [
        {
          "output_type": "stream",
          "text": [
            "[nan] [nan] [nan 'AGE10_20' 'AGE20_30' 'AGE30_40' 'AGE40_50' 'AGE50_INF']\n"
          ],
          "name": "stdout"
        }
      ]
    },
    {
      "cell_type": "code",
      "metadata": {
        "id": "F5JEY_5OIOhc",
        "colab_type": "code",
        "colab": {
          "base_uri": "https://localhost:8080/",
          "height": 204
        },
        "outputId": "43c9038b-ceda-4e1f-eca6-3a5493c50aca"
      },
      "source": [
        ""
      ],
      "execution_count": 103,
      "outputs": [
        {
          "output_type": "execute_result",
          "data": {
            "text/plain": [
              "educationInfoForAgeGroupEstimation    1150\n",
              "workInfoForAgeGroupEstimation         1402\n",
              "gender                                3248\n",
              "realAge                                  0\n",
              "ageGroup                                 0\n",
              "relationship                           459\n",
              "educationLevel                         874\n",
              "occupation                             966\n",
              "income                                 149\n",
              "city                                  3278\n",
              "dtype: int64"
            ]
          },
          "metadata": {
            "tags": []
          },
          "execution_count": 103
        }
      ]
    },
    {
      "cell_type": "markdown",
      "metadata": {
        "id": "fcU2fbwZH8EF",
        "colab_type": "text"
      },
      "source": [
        "### Plotting Number of Samples"
      ]
    },
    {
      "cell_type": "code",
      "metadata": {
        "id": "Mj2S9mbIH7Qa",
        "colab_type": "code",
        "colab": {}
      },
      "source": [
        "def plot_class(dataset):\n",
        "    columns = dataset.columns\n",
        "    column_count = list(dataset.count())\n",
        "    names = dataset.count().keys()\n",
        "    plt.figure(figsize=(10, 6), dpi=80, facecolor='w', edgecolor='k')\n",
        "    plt.xlabel('Labels')\n",
        "    plt.ylabel('Number of Samples')\n",
        "    index = np.arange(len(columns))\n",
        "    plt.xticks(index, names, fontsize=8, rotation=70)\n",
        "    plt.bar(columns, column_count)\n",
        "    plt.show()"
      ],
      "execution_count": 0,
      "outputs": []
    },
    {
      "cell_type": "code",
      "metadata": {
        "id": "TkK8InS-Ik_t",
        "colab_type": "code",
        "colab": {
          "base_uri": "https://localhost:8080/",
          "height": 578
        },
        "outputId": "763cad08-409c-4ccf-f501-45360c717b5f"
      },
      "source": [
        "plot_class(file_london)"
      ],
      "execution_count": 127,
      "outputs": [
        {
          "output_type": "display_data",
          "data": {
            "image/png": "[encoded data removed]",
            "text/plain": [
              "<Figure size 800x480 with 1 Axes>"
            ]
          },
          "metadata": {
            "tags": []
          }
        }
      ]
    },
    {
      "cell_type": "code",
      "metadata": {
        "id": "YShWnp15I3xw",
        "colab_type": "code",
        "colab": {
          "base_uri": "https://localhost:8080/",
          "height": 578
        },
        "outputId": "49d823f0-88a1-4f91-f50a-1461f35b81e6"
      },
      "source": [
        "plot_class(file_newyork)"
      ],
      "execution_count": 128,
      "outputs": [
        {
          "output_type": "display_data",
          "data": {
            "image/png": "[encoded data removed]",
            "text/plain": [
              "<Figure size 800x480 with 1 Axes>"
            ]
          },
          "metadata": {
            "tags": []
          }
        }
      ]
    },
    {
      "cell_type": "code",
      "metadata": {
        "id": "JT8_8l7dI6LR",
        "colab_type": "code",
        "colab": {
          "base_uri": "https://localhost:8080/",
          "height": 578
        },
        "outputId": "667ada38-72fc-42d5-d6ed-ab25a2ba98d7"
      },
      "source": [
        "plot_class(file_singapore)"
      ],
      "execution_count": 129,
      "outputs": [
        {
          "output_type": "display_data",
          "data": {
            "image/png": "[encoded data removed]",
            "text/plain": [
              "<Figure size 800x480 with 1 Axes>"
            ]
          },
          "metadata": {
            "tags": []
          }
        }
      ]
    },
    {
      "cell_type": "markdown",
      "metadata": {
        "id": "ahdqhz7rQtMe",
        "colab_type": "text"
      },
      "source": [
        "## Data Pre Processing"
      ]
    },
    {
      "cell_type": "code",
      "metadata": {
        "id": "jRs0mCcxQfnE",
        "colab_type": "code",
        "colab": {}
      },
      "source": [
        "class PreProcessor:\n",
        "    \"\"\"\n",
        "    Takes a raw DataFrame as input and returns a cleaned and processor\n",
        "    \"\"\"\n",
        "    def __init__(self, nan_drop_threshold=5, train=True, gender_dict=gender_dict, age_group_dict=age_group_dict,\n",
        "                 city_dict=city_dict):\n",
        "        self.nan_drop_threshold = nan_drop_threshold\n",
        "        self.train = train\n",
        "        self.unknown_token = 'UNKNOWN'\n",
        "\n",
        "        # Label Encoder for Labels\n",
        "        self.gender_encoder = LabelEncoder()\n",
        "        self.age_group_encoder = LabelEncoder()\n",
        "        self.relationship_encoder = LabelEncoder()\n",
        "        self.education_encoder = LabelEncoder()\n",
        "        self.occupation_encoder = LabelEncoder()\n",
        "        self.income_encoder = LabelEncoder()\n",
        "        self.city_encoder = LabelEncoder()\n",
        "\n",
        "        # Count Vectorizer for Input Fields\n",
        "        self.cv = CountVectorizer()\n",
        "\n",
        "    def _clean_train(self, dataframe):\n",
        "\n",
        "        dataframe.dropna(thresh=5, axis=0, inplace=True)\n",
        "\n",
        "        # Unknown Tokens\n",
        "        dataframe.fillna(self.unknown_token, inplace=True)\n",
        "\n",
        "        # -------------------- Labels --------------------\n",
        "\n",
        "        # Quantize Gender\n",
        "        dataframe['gender'] = self.gender_encoder.fit_transform(dataframe['gender'])\n",
        "        \n",
        "        # Quantize known and UNKNOWN age groups\n",
        "        dataframe['ageGroup']= self.age_group_encoder.fit_transform(dataframe['ageGroup'])\n",
        "\n",
        "        # Qunatize Relationship\n",
        "        dataframe['relationship'] = self.relationship_encoder.fit_transform(dataframe['relationship'])\n",
        "\n",
        "        # Quantize Education level\n",
        "        dataframe['educationLevel'] = self.education_encoder.fit_transform(dataframe['educationLevel'])\n",
        "\n",
        "        # Quantize Occupation Level\n",
        "        dataframe['occupation'] = self.occupation_encoder.fit_transform(dataframe['occupation'])\n",
        "\n",
        "        # Quantize Income\n",
        "        dataframe['income'] = self.income_encoder.fit_transform(dataframe['income'])\n",
        "\n",
        "        # Quantize City\n",
        "        dataframe['city'] = self.city_encoder.fit_transform(dataframe['city'])\n",
        "\n",
        "        # ------------------- Training Fields ---------------\n",
        "\n",
        "        # Update educationInfoForAgeGroupEstimation to CountVectorizing\n",
        "        dataframe['educationInfoForAgeGroupEstimation'] = dataframe['educationInfoForAgeGroupEstimation'].str.lower()\n",
        "\n",
        "        # Update workInfoForAgeGroupEstimation to Count Vectorizing \n",
        "        dataframe['workInfoForAgeGroupEstimation'] = dataframe['workInfoForAgeGroupEstimation'].str.lower()\n",
        "\n",
        "        X_train = sp.hstack(dataframe[['educationInfoForAgeGroupEstimation', 'workInfoForAgeGroupEstimation']]\n",
        "                            .apply(lambda col: self.cv.fit_transform(col)))\n",
        "        \n",
        "        # Drop Real Age\n",
        "        dataframe.drop(['realAge'], axis=1, inplace=True)\n",
        "\n",
        "        return X_train, dataframe\n",
        "\n",
        "\n",
        "    def _clean_test(self, dataframe):\n",
        "\n",
        "        # Unknown Tokens\n",
        "        dataframe.fillna(self.unknown_token, inplace=True)\n",
        "\n",
        "        # -------------------- Labels --------------------\n",
        "\n",
        "        # Quantize Gender\n",
        "        dataframe['gender'] = self.gender_encoder.transform(dataframe['gender'])\n",
        "        \n",
        "        # Quantize known and UNKNOWN age groups\n",
        "        dataframe['ageGroup']= self.age_group_encoder.transform(dataframe['ageGroup'])\n",
        "\n",
        "        # Qunatize Relationship\n",
        "        dataframe['relationship'] = self.relationship_encoder.transform(dataframe['relationship'])\n",
        "\n",
        "        # Quantize Education level\n",
        "        dataframe['educationLevel'] = self.education_encoder.transform(dataframe['educationLevel'])\n",
        "\n",
        "        # Quantize Occupation Level\n",
        "        dataframe['occupation'] = self.occupation_encoder.transform(dataframe['occupation'])\n",
        "\n",
        "        # Quantize Income\n",
        "        dataframe['income'] = self.income_encoder.transform(dataframe['income'])\n",
        "\n",
        "        # Quantize City\n",
        "        dataframe['city'] = self.city_encoder.transform(dataframe['city'])\n",
        "\n",
        "        # ------------------- Training Fields ---------------\n",
        "\n",
        "        # Update educationInfoForAgeGroupEstimation to CountVectorizing\n",
        "        # dataframe['educationInfoForAgeGroupEstimation'] = self.cv.transform(dataframe['educationInfoForAgeGroupEstimation'])\n",
        "\n",
        "        # Update workInfoForAgeGroupEstimation to Count Vectorizing \n",
        "        # dataframe['workInfoForAgeGroupEstimation'] = self.cv.transform(dataframe['workInfoForAgeGroupEstimation'])\n",
        "\n",
        "        X_test = sp.hstack(dataframe[['educationInfoForAgeGroupEstimation', 'workInfoForAgeGroupEstimation']].apply(lambda col: self.cv.transform(col)))\n",
        "\n",
        "        \n",
        "        # Drop Real Age\n",
        "        dataframe.drop(['realAge'], axis=1, inplace=True)\n",
        "\n",
        "        return X_test, dataframe\n",
        "\n",
        "    def fit(self, dataframe):\n",
        "        \"\"\"\n",
        "        The Clean method will clean the dataframe \n",
        "        Operations Performed:\n",
        "        * Remove the Rows with more than 5 nan's if Train set\n",
        "        * Mark NAN's with Unknown Tokens\n",
        "        * Replace Gender to numeric values\n",
        "        * Replace Age Group to numeric values\n",
        "        * Replace Relationship to numeric values\n",
        "        * Replace Education Level to numeric values\n",
        "        * Replace Occupation Level to numeric values\n",
        "        * Replace Income to numeric values\n",
        "        * Replace City to numeric values\n",
        "        * Count Vectorize Education Info\n",
        "        * Count Vectorize Work Info\n",
        "\n",
        "        Parameters:\n",
        "        dataframe: Pandas DataFrame\n",
        "\n",
        "        Output:\n",
        "        dataframe: Pandas DataFrame\n",
        "        \"\"\"\n",
        "\n",
        "        if self.train:\n",
        "            X, dataframe = self._clean_train(dataframe)\n",
        "        else:\n",
        "            X, dataframe = self._clean_test(dataframe)\n",
        "\n",
        "\n",
        "        return X, dataframe\n",
        "\n",
        "\n",
        "        \n"
      ],
      "execution_count": 0,
      "outputs": []
    },
    {
      "cell_type": "code",
      "metadata": {
        "id": "P--25QGbQ2Kw",
        "colab_type": "code",
        "colab": {}
      },
      "source": [
        "pre_processor_train = PreProcessor()"
      ],
      "execution_count": 0,
      "outputs": []
    },
    {
      "cell_type": "code",
      "metadata": {
        "id": "PYhLTp6AKPfd",
        "colab_type": "code",
        "colab": {}
      },
      "source": [
        "X_data, Y_data = pre_processor_train.fit(train_data)"
      ],
      "execution_count": 0,
      "outputs": []
    },
    {
      "cell_type": "code",
      "metadata": {
        "id": "Rp7OnStwJ_K9",
        "colab_type": "code",
        "colab": {}
      },
      "source": [
        "Y_data = Y_data.loc[:, ['gender', 'ageGroup', 'relationship',  'city']]"
      ],
      "execution_count": 0,
      "outputs": []
    },
    {
      "cell_type": "markdown",
      "metadata": {
        "id": "jJ3ZCtc1KMiZ",
        "colab_type": "text"
      },
      "source": [
        "## Classic ML Classifiers"
      ]
    },
    {
      "cell_type": "code",
      "metadata": {
        "id": "jEUXCq8zJWjB",
        "colab_type": "code",
        "colab": {}
      },
      "source": [
        "X_train, X_test, y_train, y_test = train_test_split(X_data, Y_data, test_size=0.2, random_state=SEED)"
      ],
      "execution_count": 0,
      "outputs": []
    },
    {
      "cell_type": "code",
      "metadata": {
        "id": "yNWXKErFORiw",
        "colab_type": "code",
        "colab": {
          "base_uri": "https://localhost:8080/",
          "height": 34
        },
        "outputId": "f9f75aeb-b80c-4b34-b2fe-f6f2df2e6f0c"
      },
      "source": [
        "X_train.shape, y_train.shape"
      ],
      "execution_count": 26,
      "outputs": [
        {
          "output_type": "execute_result",
          "data": {
            "text/plain": [
              "((2434, 19109), (2434, 4))"
            ]
          },
          "metadata": {
            "tags": []
          },
          "execution_count": 26
        }
      ]
    },
    {
      "cell_type": "markdown",
      "metadata": {
        "id": "LUPjMSCz1WPh",
        "colab_type": "text"
      },
      "source": [
        "### Support Vector Machines"
      ]
    },
    {
      "cell_type": "code",
      "metadata": {
        "id": "INrdYPjROpoB",
        "colab_type": "code",
        "colab": {
          "base_uri": "https://localhost:8080/",
          "height": 275
        },
        "outputId": "4f7234b3-a1da-4926-c374-7b8d5f54c372"
      },
      "source": [
        "f1_scores_svm = []\n",
        "\n",
        "for column in y_train.columns:\n",
        "    current_column = y_train[column]\n",
        "\n",
        "    svm = SVC(kernel='rbf')\n",
        "    svm.fit(X_train, current_column)\n",
        "\n",
        "    prediction = svm.predict(X_test)\n",
        "\n",
        "    f1 = f1_score(prediction, y_test[column], average='weighted')\n",
        "    f1_scores_svm.append((column, f1))"
      ],
      "execution_count": 79,
      "outputs": [
        {
          "output_type": "stream",
          "text": [
            "/usr/local/lib/python3.6/dist-packages/sklearn/svm/base.py:193: FutureWarning: The default value of gamma will change from 'auto' to 'scale' in version 0.22 to account better for unscaled features. Set gamma explicitly to 'auto' or 'scale' to avoid this warning.\n",
            "  \"avoid this warning.\", FutureWarning)\n",
            "/usr/local/lib/python3.6/dist-packages/sklearn/metrics/classification.py:1439: UndefinedMetricWarning: F-score is ill-defined and being set to 0.0 in labels with no true samples.\n",
            "  'recall', 'true', average, warn_for)\n",
            "/usr/local/lib/python3.6/dist-packages/sklearn/svm/base.py:193: FutureWarning: The default value of gamma will change from 'auto' to 'scale' in version 0.22 to account better for unscaled features. Set gamma explicitly to 'auto' or 'scale' to avoid this warning.\n",
            "  \"avoid this warning.\", FutureWarning)\n",
            "/usr/local/lib/python3.6/dist-packages/sklearn/metrics/classification.py:1439: UndefinedMetricWarning: F-score is ill-defined and being set to 0.0 in labels with no true samples.\n",
            "  'recall', 'true', average, warn_for)\n",
            "/usr/local/lib/python3.6/dist-packages/sklearn/svm/base.py:193: FutureWarning: The default value of gamma will change from 'auto' to 'scale' in version 0.22 to account better for unscaled features. Set gamma explicitly to 'auto' or 'scale' to avoid this warning.\n",
            "  \"avoid this warning.\", FutureWarning)\n",
            "/usr/local/lib/python3.6/dist-packages/sklearn/metrics/classification.py:1439: UndefinedMetricWarning: F-score is ill-defined and being set to 0.0 in labels with no true samples.\n",
            "  'recall', 'true', average, warn_for)\n",
            "/usr/local/lib/python3.6/dist-packages/sklearn/svm/base.py:193: FutureWarning: The default value of gamma will change from 'auto' to 'scale' in version 0.22 to account better for unscaled features. Set gamma explicitly to 'auto' or 'scale' to avoid this warning.\n",
            "  \"avoid this warning.\", FutureWarning)\n"
          ],
          "name": "stderr"
        }
      ]
    },
    {
      "cell_type": "code",
      "metadata": {
        "id": "DzhAqg7hPEvZ",
        "colab_type": "code",
        "colab": {
          "base_uri": "https://localhost:8080/",
          "height": 102
        },
        "outputId": "2d978a2d-9711-4724-b4d4-e43b66e30eda"
      },
      "source": [
        "print('-------------- SVM: F1 Scores --------------')\n",
        "for f in f1_scores_svm:\n",
        "    print('{:20} : {:.4f}'.format(str.capitalize(f[0]), f[1]))"
      ],
      "execution_count": 87,
      "outputs": [
        {
          "output_type": "stream",
          "text": [
            "-------------- SVM: F1 Scores --------------\n",
            "Gender               : 0.7672\n",
            "Agegroup             : 0.7953\n",
            "Relationship         : 0.7339\n",
            "City                 : 0.7075\n"
          ],
          "name": "stdout"
        }
      ]
    },
    {
      "cell_type": "markdown",
      "metadata": {
        "id": "C1vHj8kE1aSo",
        "colab_type": "text"
      },
      "source": [
        "### Random Forest"
      ]
    },
    {
      "cell_type": "code",
      "metadata": {
        "id": "WW1Gj6R-XCK2",
        "colab_type": "code",
        "colab": {
          "base_uri": "https://localhost:8080/",
          "height": 105
        },
        "outputId": "60bb29a5-cfdf-4153-b834-3a0d5dfe7484"
      },
      "source": [
        "f1_scores_rfc = []\n",
        "\n",
        "for column in y_train.columns:\n",
        "    current_column = y_train[column]\n",
        "\n",
        "\n",
        "    rfc = RandomForestClassifier(n_estimators=1000, random_state=SEED)\n",
        "    rfc.fit(X_train, current_column)\n",
        "\n",
        "    prediction = rfc.predict(X_test)\n",
        "\n",
        "    f1 = f1_score(prediction, y_test[column], average='weighted')\n",
        "    f1_scores_rfc.append((column, f1))"
      ],
      "execution_count": 81,
      "outputs": [
        {
          "output_type": "stream",
          "text": [
            "/usr/local/lib/python3.6/dist-packages/sklearn/metrics/classification.py:1439: UndefinedMetricWarning: F-score is ill-defined and being set to 0.0 in labels with no true samples.\n",
            "  'recall', 'true', average, warn_for)\n",
            "/usr/local/lib/python3.6/dist-packages/sklearn/metrics/classification.py:1439: UndefinedMetricWarning: F-score is ill-defined and being set to 0.0 in labels with no true samples.\n",
            "  'recall', 'true', average, warn_for)\n"
          ],
          "name": "stderr"
        }
      ]
    },
    {
      "cell_type": "code",
      "metadata": {
        "id": "rhuVlv1612te",
        "colab_type": "code",
        "colab": {
          "base_uri": "https://localhost:8080/",
          "height": 102
        },
        "outputId": "fb1d9887-1728-4751-ccec-972f4820296a"
      },
      "source": [
        "print('-------------- Random Forest: F1 Scores --------------')\n",
        "for f in f1_scores_rfc:\n",
        "    print('{:20} : {:.4f}'.format(str.capitalize(f[0]), f[1]))"
      ],
      "execution_count": 89,
      "outputs": [
        {
          "output_type": "stream",
          "text": [
            "-------------- Random Forest: F1 Scores --------------\n",
            "Gender               : 0.7213\n",
            "Agegroup             : 0.8255\n",
            "Relationship         : 0.6827\n",
            "City                 : 0.8461\n"
          ],
          "name": "stdout"
        }
      ]
    },
    {
      "cell_type": "markdown",
      "metadata": {
        "id": "fR6MJsC_5nem",
        "colab_type": "text"
      },
      "source": [
        "## Multi-Layer Preceptron"
      ]
    },
    {
      "cell_type": "code",
      "metadata": {
        "id": "osZ4EVxM3A-o",
        "colab_type": "code",
        "colab": {
          "base_uri": "https://localhost:8080/",
          "height": 1000
        },
        "outputId": "27931dc9-53ae-418b-c25c-162856be9762"
      },
      "source": [
        "f1_scores_mlp = []\n",
        "\n",
        "for column in y_train.columns:\n",
        "    current_column = y_train[column]\n",
        "\n",
        "    # Initialize Models\n",
        "\n",
        "    mlp = MLPClassifier(verbose=True, early_stopping=True, n_iter_no_change=10,\n",
        "                        hidden_layer_sizes=(100, 100))\n",
        "    mlp.fit(X_train, current_column)\n",
        "\n",
        "    prediction = mlp.predict(X_test)\n",
        "\n",
        "    f1 = f1_score(prediction, y_test[column], average='weighted')\n",
        "    f1_scores_mlp.append((column, f1))"
      ],
      "execution_count": 84,
      "outputs": [
        {
          "output_type": "stream",
          "text": [
            "Iteration 1, loss = 1.00002936\n",
            "Validation score: 0.557377\n",
            "Iteration 2, loss = 0.75896631\n",
            "Validation score: 0.565574\n",
            "Iteration 3, loss = 0.55918541\n",
            "Validation score: 0.672131\n",
            "Iteration 4, loss = 0.37741399\n",
            "Validation score: 0.651639\n",
            "Iteration 5, loss = 0.23019090\n",
            "Validation score: 0.635246\n",
            "Iteration 6, loss = 0.14256991\n",
            "Validation score: 0.618852\n",
            "Iteration 7, loss = 0.09592424\n",
            "Validation score: 0.631148\n",
            "Iteration 8, loss = 0.07198410\n",
            "Validation score: 0.622951\n",
            "Iteration 9, loss = 0.05451715\n",
            "Validation score: 0.622951\n",
            "Iteration 10, loss = 0.04493272\n",
            "Validation score: 0.631148\n",
            "Iteration 11, loss = 0.03614100\n",
            "Validation score: 0.635246\n",
            "Iteration 12, loss = 0.03257929\n",
            "Validation score: 0.614754\n",
            "Iteration 13, loss = 0.02661698\n",
            "Validation score: 0.635246\n",
            "Iteration 14, loss = 0.02598671\n",
            "Validation score: 0.622951\n",
            "Validation score did not improve more than tol=0.000100 for 10 consecutive epochs. Stopping.\n",
            "Iteration 1, loss = 1.42669046\n",
            "Validation score: 0.713115\n",
            "Iteration 2, loss = 0.99120081\n",
            "Validation score: 0.750000\n",
            "Iteration 3, loss = 0.71948102\n",
            "Validation score: 0.782787\n",
            "Iteration 4, loss = 0.51614046\n",
            "Validation score: 0.807377\n",
            "Iteration 5, loss = 0.35833945\n",
            "Validation score: 0.786885\n",
            "Iteration 6, loss = 0.24478984\n",
            "Validation score: 0.786885\n",
            "Iteration 7, loss = 0.17062060\n",
            "Validation score: 0.774590\n",
            "Iteration 8, loss = 0.12109979\n",
            "Validation score: 0.766393\n",
            "Iteration 9, loss = 0.08949897\n",
            "Validation score: 0.766393\n",
            "Iteration 10, loss = 0.06618523\n",
            "Validation score: 0.774590\n",
            "Iteration 11, loss = 0.05049317\n",
            "Validation score: 0.782787\n",
            "Iteration 12, loss = 0.03962790\n",
            "Validation score: 0.786885\n",
            "Iteration 13, loss = 0.03201609\n",
            "Validation score: 0.795082\n",
            "Iteration 14, loss = 0.02607948\n",
            "Validation score: 0.786885\n",
            "Iteration 15, loss = 0.02175876\n",
            "Validation score: 0.786885\n",
            "Validation score did not improve more than tol=0.000100 for 10 consecutive epochs. Stopping.\n"
          ],
          "name": "stdout"
        },
        {
          "output_type": "stream",
          "text": [
            "/usr/local/lib/python3.6/dist-packages/sklearn/metrics/classification.py:1439: UndefinedMetricWarning: F-score is ill-defined and being set to 0.0 in labels with no true samples.\n",
            "  'recall', 'true', average, warn_for)\n"
          ],
          "name": "stderr"
        },
        {
          "output_type": "stream",
          "text": [
            "Iteration 1, loss = 1.23575005\n",
            "Validation score: 0.598361\n",
            "Iteration 2, loss = 0.99790605\n",
            "Validation score: 0.606557\n",
            "Iteration 3, loss = 0.82502027\n",
            "Validation score: 0.602459\n",
            "Iteration 4, loss = 0.65354105\n",
            "Validation score: 0.586066\n",
            "Iteration 5, loss = 0.48425546\n",
            "Validation score: 0.553279\n",
            "Iteration 6, loss = 0.34369293\n",
            "Validation score: 0.553279\n",
            "Iteration 7, loss = 0.23732568\n",
            "Validation score: 0.545082\n",
            "Iteration 8, loss = 0.17079876\n",
            "Validation score: 0.565574\n",
            "Iteration 9, loss = 0.12650410\n",
            "Validation score: 0.557377\n",
            "Iteration 10, loss = 0.09916907\n",
            "Validation score: 0.561475\n",
            "Iteration 11, loss = 0.07793224\n",
            "Validation score: 0.553279\n",
            "Iteration 12, loss = 0.06458192\n",
            "Validation score: 0.549180\n",
            "Iteration 13, loss = 0.05274958\n",
            "Validation score: 0.540984\n",
            "Validation score did not improve more than tol=0.000100 for 10 consecutive epochs. Stopping.\n"
          ],
          "name": "stdout"
        },
        {
          "output_type": "stream",
          "text": [
            "/usr/local/lib/python3.6/dist-packages/sklearn/metrics/classification.py:1439: UndefinedMetricWarning: F-score is ill-defined and being set to 0.0 in labels with no true samples.\n",
            "  'recall', 'true', average, warn_for)\n"
          ],
          "name": "stderr"
        },
        {
          "output_type": "stream",
          "text": [
            "Iteration 1, loss = 0.98806213\n",
            "Validation score: 0.831967\n",
            "Iteration 2, loss = 0.54735055\n",
            "Validation score: 0.872951\n",
            "Iteration 3, loss = 0.25619981\n",
            "Validation score: 0.893443\n",
            "Iteration 4, loss = 0.13254737\n",
            "Validation score: 0.897541\n",
            "Iteration 5, loss = 0.07724390\n",
            "Validation score: 0.893443\n",
            "Iteration 6, loss = 0.04647987\n",
            "Validation score: 0.901639\n",
            "Iteration 7, loss = 0.02918413\n",
            "Validation score: 0.901639\n",
            "Iteration 8, loss = 0.02119746\n",
            "Validation score: 0.893443\n",
            "Iteration 9, loss = 0.01605188\n",
            "Validation score: 0.893443\n",
            "Iteration 10, loss = 0.01291995\n",
            "Validation score: 0.881148\n",
            "Iteration 11, loss = 0.01086390\n",
            "Validation score: 0.881148\n",
            "Iteration 12, loss = 0.01174649\n",
            "Validation score: 0.881148\n",
            "Iteration 13, loss = 0.01078799\n",
            "Validation score: 0.893443\n",
            "Iteration 14, loss = 0.00960891\n",
            "Validation score: 0.889344\n",
            "Iteration 15, loss = 0.00915535\n",
            "Validation score: 0.893443\n",
            "Iteration 16, loss = 0.00996406\n",
            "Validation score: 0.889344\n",
            "Iteration 17, loss = 0.01231481\n",
            "Validation score: 0.885246\n",
            "Validation score did not improve more than tol=0.000100 for 10 consecutive epochs. Stopping.\n"
          ],
          "name": "stdout"
        }
      ]
    },
    {
      "cell_type": "code",
      "metadata": {
        "id": "MGu3X87i6b57",
        "colab_type": "code",
        "colab": {
          "base_uri": "https://localhost:8080/",
          "height": 102
        },
        "outputId": "917a205a-4240-4e29-86e8-e346baecfd61"
      },
      "source": [
        "print('-------------- Neural Network: F1 Scores --------------')\n",
        "for f in f1_scores_mlp:\n",
        "    print('{:20} : {:4f}'.format(str.capitalize(f[0]), f[1]))"
      ],
      "execution_count": 90,
      "outputs": [
        {
          "output_type": "stream",
          "text": [
            "-------------- Neural Network: F1 Scores --------------\n",
            "Gender               : 0.679297\n",
            "Agegroup             : 0.795885\n",
            "Relationship         : 0.714589\n",
            "City                 : 0.868779\n"
          ],
          "name": "stdout"
        }
      ]
    },
    {
      "cell_type": "markdown",
      "metadata": {
        "id": "nI9W3W0B8JB1",
        "colab_type": "text"
      },
      "source": [
        "## Ensembling Models"
      ]
    },
    {
      "cell_type": "code",
      "metadata": {
        "id": "te6MBvmI8Glp",
        "colab_type": "code",
        "colab": {
          "base_uri": "https://localhost:8080/",
          "height": 1000
        },
        "outputId": "2349119f-4a4d-4ef9-ad9a-c8eb480f700b"
      },
      "source": [
        "f1_scores_vc = []\n",
        "\n",
        "for column in y_train.columns:\n",
        "    current_column = y_train[column]\n",
        "\n",
        "    # Initialize Models\n",
        "\n",
        "    svm = SVC(kernel='rbf')\n",
        "    rfc = RandomForestClassifier(n_estimators=1000, random_state=SEED)\n",
        "    mlp = MLPClassifier(verbose=True, early_stopping=True, n_iter_no_change=10, \n",
        "                        hidden_layer_sizes=(100, 100))\n",
        "\n",
        "    vc = VotingClassifier(estimators=[('svm', svm), ('rfc', rfc), ('mlp', mlp)],\n",
        "                          voting='hard')\n",
        "    vc.fit(X_train, current_column)\n",
        "\n",
        "    prediction = vc.predict(X_test)\n",
        "\n",
        "    f1 = f1_score(prediction, y_test[column], average='weighted')\n",
        "    f1_scores_vc.append((column, f1))"
      ],
      "execution_count": 72,
      "outputs": [
        {
          "output_type": "stream",
          "text": [
            "/usr/local/lib/python3.6/dist-packages/sklearn/svm/base.py:193: FutureWarning: The default value of gamma will change from 'auto' to 'scale' in version 0.22 to account better for unscaled features. Set gamma explicitly to 'auto' or 'scale' to avoid this warning.\n",
            "  \"avoid this warning.\", FutureWarning)\n"
          ],
          "name": "stderr"
        },
        {
          "output_type": "stream",
          "text": [
            "Iteration 1, loss = 1.05335554\n",
            "Validation score: 0.631148\n",
            "Iteration 2, loss = 0.79330901\n",
            "Validation score: 0.614754\n",
            "Iteration 3, loss = 0.61521091\n",
            "Validation score: 0.663934\n",
            "Iteration 4, loss = 0.44049866\n",
            "Validation score: 0.672131\n",
            "Iteration 5, loss = 0.28916422\n",
            "Validation score: 0.647541\n",
            "Iteration 6, loss = 0.18147052\n",
            "Validation score: 0.651639\n",
            "Iteration 7, loss = 0.12009601\n",
            "Validation score: 0.643443\n",
            "Iteration 8, loss = 0.08302010\n",
            "Validation score: 0.602459\n",
            "Iteration 9, loss = 0.06319949\n",
            "Validation score: 0.639344\n",
            "Iteration 10, loss = 0.04807750\n",
            "Validation score: 0.631148\n",
            "Iteration 11, loss = 0.04037489\n",
            "Validation score: 0.622951\n",
            "Iteration 12, loss = 0.03512221\n",
            "Validation score: 0.622951\n",
            "Iteration 13, loss = 0.02962866\n",
            "Validation score: 0.631148\n",
            "Iteration 14, loss = 0.02765100\n",
            "Validation score: 0.631148\n",
            "Iteration 15, loss = 0.02196341\n",
            "Validation score: 0.631148\n",
            "Validation score did not improve more than tol=0.000100 for 10 consecutive epochs. Stopping.\n"
          ],
          "name": "stdout"
        },
        {
          "output_type": "stream",
          "text": [
            "/usr/local/lib/python3.6/dist-packages/sklearn/metrics/classification.py:1439: UndefinedMetricWarning: F-score is ill-defined and being set to 0.0 in labels with no true samples.\n",
            "  'recall', 'true', average, warn_for)\n",
            "/usr/local/lib/python3.6/dist-packages/sklearn/svm/base.py:193: FutureWarning: The default value of gamma will change from 'auto' to 'scale' in version 0.22 to account better for unscaled features. Set gamma explicitly to 'auto' or 'scale' to avoid this warning.\n",
            "  \"avoid this warning.\", FutureWarning)\n"
          ],
          "name": "stderr"
        },
        {
          "output_type": "stream",
          "text": [
            "Iteration 1, loss = 1.49328363\n",
            "Validation score: 0.672131\n",
            "Iteration 2, loss = 0.98631320\n",
            "Validation score: 0.692623\n",
            "Iteration 3, loss = 0.70582260\n",
            "Validation score: 0.733607\n",
            "Iteration 4, loss = 0.50621662\n",
            "Validation score: 0.754098\n",
            "Iteration 5, loss = 0.35347820\n",
            "Validation score: 0.762295\n",
            "Iteration 6, loss = 0.24821891\n",
            "Validation score: 0.774590\n",
            "Iteration 7, loss = 0.17927562\n",
            "Validation score: 0.766393\n",
            "Iteration 8, loss = 0.12953214\n",
            "Validation score: 0.766393\n",
            "Iteration 9, loss = 0.09638386\n",
            "Validation score: 0.750000\n",
            "Iteration 10, loss = 0.07528123\n",
            "Validation score: 0.750000\n",
            "Iteration 11, loss = 0.05850851\n",
            "Validation score: 0.754098\n",
            "Iteration 12, loss = 0.04764934\n",
            "Validation score: 0.741803\n",
            "Iteration 13, loss = 0.03911462\n",
            "Validation score: 0.741803\n",
            "Iteration 14, loss = 0.03106423\n",
            "Validation score: 0.741803\n",
            "Iteration 15, loss = 0.02644682\n",
            "Validation score: 0.737705\n",
            "Iteration 16, loss = 0.02213107\n",
            "Validation score: 0.741803\n",
            "Iteration 17, loss = 0.01863164\n",
            "Validation score: 0.733607\n",
            "Validation score did not improve more than tol=0.000100 for 10 consecutive epochs. Stopping.\n"
          ],
          "name": "stdout"
        },
        {
          "output_type": "stream",
          "text": [
            "/usr/local/lib/python3.6/dist-packages/sklearn/metrics/classification.py:1439: UndefinedMetricWarning: F-score is ill-defined and being set to 0.0 in labels with no true samples.\n",
            "  'recall', 'true', average, warn_for)\n",
            "/usr/local/lib/python3.6/dist-packages/sklearn/svm/base.py:193: FutureWarning: The default value of gamma will change from 'auto' to 'scale' in version 0.22 to account better for unscaled features. Set gamma explicitly to 'auto' or 'scale' to avoid this warning.\n",
            "  \"avoid this warning.\", FutureWarning)\n"
          ],
          "name": "stderr"
        },
        {
          "output_type": "stream",
          "text": [
            "Iteration 1, loss = 1.17851911\n",
            "Validation score: 0.581967\n",
            "Iteration 2, loss = 0.95186252\n",
            "Validation score: 0.602459\n",
            "Iteration 3, loss = 0.77824912\n",
            "Validation score: 0.602459\n",
            "Iteration 4, loss = 0.59494825\n",
            "Validation score: 0.561475\n",
            "Iteration 5, loss = 0.42038552\n",
            "Validation score: 0.557377\n",
            "Iteration 6, loss = 0.28055013\n",
            "Validation score: 0.545082\n",
            "Iteration 7, loss = 0.18991325\n",
            "Validation score: 0.540984\n",
            "Iteration 8, loss = 0.13423214\n",
            "Validation score: 0.545082\n",
            "Iteration 9, loss = 0.10097726\n",
            "Validation score: 0.524590\n",
            "Iteration 10, loss = 0.07796879\n",
            "Validation score: 0.532787\n",
            "Iteration 11, loss = 0.06255418\n",
            "Validation score: 0.516393\n",
            "Iteration 12, loss = 0.05037882\n",
            "Validation score: 0.520492\n",
            "Iteration 13, loss = 0.04128289\n",
            "Validation score: 0.512295\n",
            "Validation score did not improve more than tol=0.000100 for 10 consecutive epochs. Stopping.\n"
          ],
          "name": "stdout"
        },
        {
          "output_type": "stream",
          "text": [
            "/usr/local/lib/python3.6/dist-packages/sklearn/metrics/classification.py:1439: UndefinedMetricWarning: F-score is ill-defined and being set to 0.0 in labels with no true samples.\n",
            "  'recall', 'true', average, warn_for)\n",
            "/usr/local/lib/python3.6/dist-packages/sklearn/svm/base.py:193: FutureWarning: The default value of gamma will change from 'auto' to 'scale' in version 0.22 to account better for unscaled features. Set gamma explicitly to 'auto' or 'scale' to avoid this warning.\n",
            "  \"avoid this warning.\", FutureWarning)\n"
          ],
          "name": "stderr"
        },
        {
          "output_type": "stream",
          "text": [
            "Iteration 1, loss = 0.93603807\n",
            "Validation score: 0.799180\n",
            "Iteration 2, loss = 0.44693202\n",
            "Validation score: 0.901639\n",
            "Iteration 3, loss = 0.20525726\n",
            "Validation score: 0.926230\n",
            "Iteration 4, loss = 0.10583298\n",
            "Validation score: 0.922131\n",
            "Iteration 5, loss = 0.06330068\n",
            "Validation score: 0.893443\n",
            "Iteration 6, loss = 0.03918962\n",
            "Validation score: 0.893443\n",
            "Iteration 7, loss = 0.02858972\n",
            "Validation score: 0.881148\n",
            "Iteration 8, loss = 0.01955958\n",
            "Validation score: 0.885246\n",
            "Iteration 9, loss = 0.01506924\n",
            "Validation score: 0.881148\n",
            "Iteration 10, loss = 0.01164125\n",
            "Validation score: 0.889344\n",
            "Iteration 11, loss = 0.00885397\n",
            "Validation score: 0.889344\n",
            "Iteration 12, loss = 0.01040692\n",
            "Validation score: 0.889344\n",
            "Iteration 13, loss = 0.00809728\n",
            "Validation score: 0.885246\n",
            "Iteration 14, loss = 0.00849497\n",
            "Validation score: 0.889344\n",
            "Validation score did not improve more than tol=0.000100 for 10 consecutive epochs. Stopping.\n"
          ],
          "name": "stdout"
        }
      ]
    },
    {
      "cell_type": "code",
      "metadata": {
        "id": "fSyKCvDU_0Ry",
        "colab_type": "code",
        "colab": {
          "base_uri": "https://localhost:8080/",
          "height": 102
        },
        "outputId": "ff6471d3-2a19-4b96-b365-f4658497eaa9"
      },
      "source": [
        "print('-------------- Ensembling These Models: F1 Scores --------------')\n",
        "for f in f1_scores_vc:\n",
        "    print('{:20} : {}'.format(str.capitalize(f[0]), f[1]))"
      ],
      "execution_count": 86,
      "outputs": [
        {
          "output_type": "stream",
          "text": [
            "-------------- Ensembling These Models: F1 Scores --------------\n",
            "Gender               : 0.7299284979188891\n",
            "Agegroup             : 0.8137717576216003\n",
            "Relationship         : 0.7149098963052452\n",
            "City                 : 0.8387643472742549\n"
          ],
          "name": "stdout"
        }
      ]
    },
    {
      "cell_type": "markdown",
      "metadata": {
        "id": "M6UeAw88DOLd",
        "colab_type": "text"
      },
      "source": [
        "# Results"
      ]
    },
    {
      "cell_type": "code",
      "metadata": {
        "id": "DG_slFsSFBbU",
        "colab_type": "code",
        "colab": {}
      },
      "source": [
        "svm_f1 = ['{:.4f}'.format(f[1]) for f in f1_scores_svm]\n",
        "rfc_f1 = ['{:.4f}'.format(f[1]) for f in f1_scores_rfc]\n",
        "mlp_f1 = ['{:.4f}'.format(f[1]) for f in f1_scores_mlp]\n",
        "vc_f1  = ['{:.4f}'.format(f[1]) for f in f1_scores_vc]"
      ],
      "execution_count": 0,
      "outputs": []
    },
    {
      "cell_type": "code",
      "metadata": {
        "id": "ESme6IOOAFcR",
        "colab_type": "code",
        "colab": {}
      },
      "source": [
        "results = pd.DataFrame(data=[svm_f1, rfc_f1, mlp_f1, vc_f1], columns=['SVM', 'Random Forest', 'Neural Network', 'Ensembling Models'], index=['Gender', 'Age Group', 'Relationship', 'Country'])"
      ],
      "execution_count": 0,
      "outputs": []
    },
    {
      "cell_type": "code",
      "metadata": {
        "id": "dElNsQsyGW-4",
        "colab_type": "code",
        "colab": {
          "base_uri": "https://localhost:8080/",
          "height": 190
        },
        "outputId": "0877923a-117f-49a1-b11a-bb40c3f7df36"
      },
      "source": [
        "print('------------------------ Final: F1 Scores ------------------------')\n",
        "results"
      ],
      "execution_count": 102,
      "outputs": [
        {
          "output_type": "stream",
          "text": [
            "------------------------ Final: F1 Scores ------------------------\n"
          ],
          "name": "stdout"
        },
        {
          "output_type": "execute_result",
          "data": {
            "text/html": [
              "<div>\n",
              "<style scoped>\n",
              "    .dataframe tbody tr th:only-of-type {\n",
              "        vertical-align: middle;\n",
              "    }\n",
              "\n",
              "    .dataframe tbody tr th {\n",
              "        vertical-align: top;\n",
              "    }\n",
              "\n",
              "    .dataframe thead th {\n",
              "        text-align: right;\n",
              "    }\n",
              "</style>\n",
              "<table border=\"1\" class=\"dataframe\">\n",
              "  <thead>\n",
              "    <tr style=\"text-align: right;\">\n",
              "      <th></th>\n",
              "      <th>SVM</th>\n",
              "      <th>Random Forest</th>\n",
              "      <th>Neural Network</th>\n",
              "      <th>Ensembling Models</th>\n",
              "    </tr>\n",
              "  </thead>\n",
              "  <tbody>\n",
              "    <tr>\n",
              "      <th>Gender</th>\n",
              "      <td>0.7672</td>\n",
              "      <td>0.7953</td>\n",
              "      <td>0.7339</td>\n",
              "      <td>0.7075</td>\n",
              "    </tr>\n",
              "    <tr>\n",
              "      <th>Age Group</th>\n",
              "      <td>0.7213</td>\n",
              "      <td>0.8255</td>\n",
              "      <td>0.6827</td>\n",
              "      <td>0.8461</td>\n",
              "    </tr>\n",
              "    <tr>\n",
              "      <th>Relationship</th>\n",
              "      <td>0.6793</td>\n",
              "      <td>0.7959</td>\n",
              "      <td>0.7146</td>\n",
              "      <td>0.8688</td>\n",
              "    </tr>\n",
              "    <tr>\n",
              "      <th>Country</th>\n",
              "      <td>0.7299</td>\n",
              "      <td>0.8138</td>\n",
              "      <td>0.7149</td>\n",
              "      <td>0.8388</td>\n",
              "    </tr>\n",
              "  </tbody>\n",
              "</table>\n",
              "</div>"
            ],
            "text/plain": [
              "                 SVM Random Forest Neural Network Ensembling Models\n",
              "Gender        0.7672        0.7953         0.7339            0.7075\n",
              "Age Group     0.7213        0.8255         0.6827            0.8461\n",
              "Relationship  0.6793        0.7959         0.7146            0.8688\n",
              "Country       0.7299        0.8138         0.7149            0.8388"
            ]
          },
          "metadata": {
            "tags": []
          },
          "execution_count": 102
        }
      ]
    },
    {
      "cell_type": "code",
      "metadata": {
        "id": "ZL-0-3LFGYFl",
        "colab_type": "code",
        "colab": {}
      },
      "source": [
        ""
      ],
      "execution_count": 0,
      "outputs": []
    }
  ]
}