{
  "nbformat": 4,
  "nbformat_minor": 0,
  "metadata": {
    "kernelspec": {
      "display_name": "Python 3",
      "language": "python",
      "name": "python3"
    },
    "language_info": {
      "codemirror_mode": {
        "name": "ipython",
        "version": 3
      },
      "file_extension": ".py",
      "mimetype": "text/x-python",
      "name": "python",
      "nbconvert_exporter": "python",
      "pygments_lexer": "ipython3",
      "version": "3.6.9"
    },
    "colab": {
      "name": "Demographic_Prediction.ipynb",
      "provenance": [],
      "include_colab_link": true
    }
  },
  "cells": [
    {
      "cell_type": "markdown",
      "metadata": {
        "id": "view-in-github",
        "colab_type": "text"
      },
      "source": [
        "<a href=\"https://colab.research.google.com/github/shivammehta007/Social-Network-Analysis/blob/master/Demographic_Prediction.ipynb\" target=\"_parent\"><img src=\"https://colab.research.google.com/assets/colab-badge.svg\" alt=\"Open In Colab\"/></a>"
      ]
    },
    {
      "cell_type": "code",
      "metadata": {
        "id": "nybkTIEmMUkt",
        "colab_type": "code",
        "colab": {
          "base_uri": "https://localhost:8080/",
          "height": 34
        },
        "outputId": "19844ae2-9075-4b60-f111-11fcf66983dc"
      },
      "source": [
        "from google.colab import drive\n",
        "drive.mount('/content/drive')"
      ],
      "execution_count": 1,
      "outputs": [
        {
          "output_type": "stream",
          "text": [
            "Drive already mounted at /content/drive; to attempt to forcibly remount, call drive.mount(\"/content/drive\", force_remount=True).\n"
          ],
          "name": "stdout"
        }
      ]
    },
    {
      "cell_type": "code",
      "metadata": {
        "id": "Ll-1Nl5_M7Lw",
        "colab_type": "code",
        "colab": {}
      },
      "source": [
        "import os\n",
        "import numpy as np\n",
        "import pandas as pd\n",
        "import matplotlib.pyplot as plt\n",
        "import seaborn as sns\n",
        "%matplotlib inline"
      ],
      "execution_count": 0,
      "outputs": []
    },
    {
      "cell_type": "markdown",
      "metadata": {
        "id": "_wNajvtIQlB-",
        "colab_type": "text"
      },
      "source": [
        "## Opening Data"
      ]
    },
    {
      "cell_type": "code",
      "metadata": {
        "id": "_fS5hHy8MVsW",
        "colab_type": "code",
        "colab": {}
      },
      "source": [
        "data_path = os.path.join('drive', 'My Drive', 'Colab Notebooks', 'SNA Lab', 'SNA-Lab3')\n",
        "file_london = pd.read_csv(os.path.join(data_path, 'LondonTrain.csv'))\n",
        "file_newyork = pd.read_csv(os.path.join(data_path, 'NYTrain.csv'))\n",
        "file_singapore = pd.read_csv(os.path.join(data_path, 'SingaporeTrain.csv'))"
      ],
      "execution_count": 0,
      "outputs": []
    },
    {
      "cell_type": "markdown",
      "metadata": {
        "id": "5lMiciJcQT-B",
        "colab_type": "text"
      },
      "source": [
        "## EDA: Exploratory Data Analysis"
      ]
    },
    {
      "cell_type": "markdown",
      "metadata": {
        "id": "xkjhauYGQbQN",
        "colab_type": "text"
      },
      "source": [
        "### Heads"
      ]
    },
    {
      "cell_type": "code",
      "metadata": {
        "id": "CLErAX_eWWDp",
        "colab_type": "code",
        "colab": {}
      },
      "source": [
        "# Dropping Row ID\n",
        "file_london.drop(['row ID'], axis=1, inplace=True)\n",
        "file_newyork.drop(['row ID'], axis=1, inplace=True)\n",
        "file_singapore.drop(['row ID'], axis=1, inplace=True)"
      ],
      "execution_count": 0,
      "outputs": []
    },
    {
      "cell_type": "code",
      "metadata": {
        "id": "VXh9F0UxM4mO",
        "colab_type": "code",
        "colab": {
          "base_uri": "https://localhost:8080/",
          "height": 204
        },
        "outputId": "e66b1496-b291-429b-897b-d363ab059753"
      },
      "source": [
        "file_london.head()"
      ],
      "execution_count": 5,
      "outputs": [
        {
          "output_type": "execute_result",
          "data": {
            "text/html": [
              "<div>\n",
              "<style scoped>\n",
              "    .dataframe tbody tr th:only-of-type {\n",
              "        vertical-align: middle;\n",
              "    }\n",
              "\n",
              "    .dataframe tbody tr th {\n",
              "        vertical-align: top;\n",
              "    }\n",
              "\n",
              "    .dataframe thead th {\n",
              "        text-align: right;\n",
              "    }\n",
              "</style>\n",
              "<table border=\"1\" class=\"dataframe\">\n",
              "  <thead>\n",
              "    <tr style=\"text-align: right;\">\n",
              "      <th></th>\n",
              "      <th>educationInfoForAgeGroupEstimation</th>\n",
              "      <th>workInfoForAgeGroupEstimation</th>\n",
              "      <th>gender</th>\n",
              "      <th>realAge</th>\n",
              "      <th>ageGroup</th>\n",
              "      <th>relationship</th>\n",
              "      <th>educationLevel</th>\n",
              "      <th>occupation</th>\n",
              "      <th>income</th>\n",
              "    </tr>\n",
              "  </thead>\n",
              "  <tbody>\n",
              "    <tr>\n",
              "      <th>0</th>\n",
              "      <td>NaN</td>\n",
              "      <td>NaN</td>\n",
              "      <td>female</td>\n",
              "      <td>NaN</td>\n",
              "      <td>NaN</td>\n",
              "      <td>NaN</td>\n",
              "      <td>NaN</td>\n",
              "      <td>NaN</td>\n",
              "      <td>NaN</td>\n",
              "    </tr>\n",
              "    <tr>\n",
              "      <th>1</th>\n",
              "      <td>NaN</td>\n",
              "      <td>Edenred Employee Benefits Advisor � November 2...</td>\n",
              "      <td>female</td>\n",
              "      <td>NaN</td>\n",
              "      <td>NaN</td>\n",
              "      <td>NaN</td>\n",
              "      <td>NaN</td>\n",
              "      <td>personal care and service</td>\n",
              "      <td>NaN</td>\n",
              "    </tr>\n",
              "    <tr>\n",
              "      <th>2</th>\n",
              "      <td>Uppsala University Egyptology � Uppsala, Sweden</td>\n",
              "      <td>NaN</td>\n",
              "      <td>male</td>\n",
              "      <td>NaN</td>\n",
              "      <td>NaN</td>\n",
              "      <td>NaN</td>\n",
              "      <td>undergraduate</td>\n",
              "      <td>NaN</td>\n",
              "      <td>NaN</td>\n",
              "    </tr>\n",
              "    <tr>\n",
              "      <th>3</th>\n",
              "      <td>NaN</td>\n",
              "      <td>Booking.com Cambridge, Cambridgeshire</td>\n",
              "      <td>male</td>\n",
              "      <td>NaN</td>\n",
              "      <td>NaN</td>\n",
              "      <td>NaN</td>\n",
              "      <td>NaN</td>\n",
              "      <td>NaN</td>\n",
              "      <td>NaN</td>\n",
              "    </tr>\n",
              "    <tr>\n",
              "      <th>4</th>\n",
              "      <td>University of Verona 2008 to 2010 � Nursing � ...</td>\n",
              "      <td>Coogee Pavilion Pizza Chef � 13 April 2015 to ...</td>\n",
              "      <td>male</td>\n",
              "      <td>NaN</td>\n",
              "      <td>NaN</td>\n",
              "      <td>single</td>\n",
              "      <td>undergraduate</td>\n",
              "      <td>food preparation and service related</td>\n",
              "      <td>NaN</td>\n",
              "    </tr>\n",
              "  </tbody>\n",
              "</table>\n",
              "</div>"
            ],
            "text/plain": [
              "                  educationInfoForAgeGroupEstimation  ... income\n",
              "0                                                NaN  ...    NaN\n",
              "1                                                NaN  ...    NaN\n",
              "2    Uppsala University Egyptology � Uppsala, Sweden  ...    NaN\n",
              "3                                                NaN  ...    NaN\n",
              "4  University of Verona 2008 to 2010 � Nursing � ...  ...    NaN\n",
              "\n",
              "[5 rows x 9 columns]"
            ]
          },
          "metadata": {
            "tags": []
          },
          "execution_count": 5
        }
      ]
    },
    {
      "cell_type": "code",
      "metadata": {
        "id": "Nkd3ni68NO-W",
        "colab_type": "code",
        "colab": {
          "base_uri": "https://localhost:8080/",
          "height": 204
        },
        "outputId": "e452821f-c56a-4b42-c1fd-e001cd13df91"
      },
      "source": [
        "file_newyork.head()"
      ],
      "execution_count": 6,
      "outputs": [
        {
          "output_type": "execute_result",
          "data": {
            "text/html": [
              "<div>\n",
              "<style scoped>\n",
              "    .dataframe tbody tr th:only-of-type {\n",
              "        vertical-align: middle;\n",
              "    }\n",
              "\n",
              "    .dataframe tbody tr th {\n",
              "        vertical-align: top;\n",
              "    }\n",
              "\n",
              "    .dataframe thead th {\n",
              "        text-align: right;\n",
              "    }\n",
              "</style>\n",
              "<table border=\"1\" class=\"dataframe\">\n",
              "  <thead>\n",
              "    <tr style=\"text-align: right;\">\n",
              "      <th></th>\n",
              "      <th>educationInfoForAgeGroupEstimation</th>\n",
              "      <th>workInfoForAgeGroupEstimation</th>\n",
              "      <th>gender</th>\n",
              "      <th>realAge</th>\n",
              "      <th>ageGroup</th>\n",
              "      <th>relationship</th>\n",
              "      <th>educationLevel</th>\n",
              "      <th>occupation</th>\n",
              "      <th>income</th>\n",
              "    </tr>\n",
              "  </thead>\n",
              "  <tbody>\n",
              "    <tr>\n",
              "      <th>0</th>\n",
              "      <td>Universidad Santo Tom�s Class of 2009 � Psycho...</td>\n",
              "      <td>GMO Chile Analista de Selecci�n y Desarrollo �...</td>\n",
              "      <td>female</td>\n",
              "      <td>NaN</td>\n",
              "      <td>NaN</td>\n",
              "      <td>NaN</td>\n",
              "      <td>NaN</td>\n",
              "      <td>NaN</td>\n",
              "      <td>NaN</td>\n",
              "    </tr>\n",
              "    <tr>\n",
              "      <th>1</th>\n",
              "      <td>NaN</td>\n",
              "      <td>NaN</td>\n",
              "      <td>male</td>\n",
              "      <td>NaN</td>\n",
              "      <td>NaN</td>\n",
              "      <td>NaN</td>\n",
              "      <td>NaN</td>\n",
              "      <td>NaN</td>\n",
              "      <td>NaN</td>\n",
              "    </tr>\n",
              "    <tr>\n",
              "      <th>2</th>\n",
              "      <td>NaN</td>\n",
              "      <td>NaN</td>\n",
              "      <td>male</td>\n",
              "      <td>NaN</td>\n",
              "      <td>NaN</td>\n",
              "      <td>in a relationship</td>\n",
              "      <td>NaN</td>\n",
              "      <td>NaN</td>\n",
              "      <td>NaN</td>\n",
              "    </tr>\n",
              "    <tr>\n",
              "      <th>3</th>\n",
              "      <td>NaN</td>\n",
              "      <td>Commonwealth of Massachusetts Legislative Aide...</td>\n",
              "      <td>male</td>\n",
              "      <td>NaN</td>\n",
              "      <td>NaN</td>\n",
              "      <td>NaN</td>\n",
              "      <td>NaN</td>\n",
              "      <td>healthcare support</td>\n",
              "      <td>NaN</td>\n",
              "    </tr>\n",
              "    <tr>\n",
              "      <th>4</th>\n",
              "      <td>NaN</td>\n",
              "      <td>Mindshare Pan Regional Director � 1 October 20...</td>\n",
              "      <td>female</td>\n",
              "      <td>NaN</td>\n",
              "      <td>NaN</td>\n",
              "      <td>NaN</td>\n",
              "      <td>NaN</td>\n",
              "      <td>management</td>\n",
              "      <td>NaN</td>\n",
              "    </tr>\n",
              "  </tbody>\n",
              "</table>\n",
              "</div>"
            ],
            "text/plain": [
              "                  educationInfoForAgeGroupEstimation  ... income\n",
              "0  Universidad Santo Tom�s Class of 2009 � Psycho...  ...    NaN\n",
              "1                                                NaN  ...    NaN\n",
              "2                                                NaN  ...    NaN\n",
              "3                                                NaN  ...    NaN\n",
              "4                                                NaN  ...    NaN\n",
              "\n",
              "[5 rows x 9 columns]"
            ]
          },
          "metadata": {
            "tags": []
          },
          "execution_count": 6
        }
      ]
    },
    {
      "cell_type": "code",
      "metadata": {
        "id": "A0tEshH8QPIj",
        "colab_type": "code",
        "colab": {
          "base_uri": "https://localhost:8080/",
          "height": 204
        },
        "outputId": "e5cc9ec0-a8ea-4254-f5ad-02c58815ff67"
      },
      "source": [
        "file_singapore.head()"
      ],
      "execution_count": 7,
      "outputs": [
        {
          "output_type": "execute_result",
          "data": {
            "text/html": [
              "<div>\n",
              "<style scoped>\n",
              "    .dataframe tbody tr th:only-of-type {\n",
              "        vertical-align: middle;\n",
              "    }\n",
              "\n",
              "    .dataframe tbody tr th {\n",
              "        vertical-align: top;\n",
              "    }\n",
              "\n",
              "    .dataframe thead th {\n",
              "        text-align: right;\n",
              "    }\n",
              "</style>\n",
              "<table border=\"1\" class=\"dataframe\">\n",
              "  <thead>\n",
              "    <tr style=\"text-align: right;\">\n",
              "      <th></th>\n",
              "      <th>educationInfoForAgeGroupEstimation</th>\n",
              "      <th>workInfoForAgeGroupEstimation</th>\n",
              "      <th>gender</th>\n",
              "      <th>realAge</th>\n",
              "      <th>ageGroup</th>\n",
              "      <th>relationship</th>\n",
              "      <th>educationLevel</th>\n",
              "      <th>occupation</th>\n",
              "      <th>income</th>\n",
              "    </tr>\n",
              "  </thead>\n",
              "  <tbody>\n",
              "    <tr>\n",
              "      <th>0</th>\n",
              "      <td>NaN</td>\n",
              "      <td>NaN</td>\n",
              "      <td>female</td>\n",
              "      <td>NaN</td>\n",
              "      <td>NaN</td>\n",
              "      <td>NaN</td>\n",
              "      <td>NaN</td>\n",
              "      <td>NaN</td>\n",
              "      <td>NaN</td>\n",
              "    </tr>\n",
              "    <tr>\n",
              "      <th>1</th>\n",
              "      <td>Bukit Batok Secondary School ITE College West ...</td>\n",
              "      <td>NaN</td>\n",
              "      <td>female</td>\n",
              "      <td>NaN</td>\n",
              "      <td>NaN</td>\n",
              "      <td>NaN</td>\n",
              "      <td>college</td>\n",
              "      <td>NaN</td>\n",
              "      <td>NaN</td>\n",
              "    </tr>\n",
              "    <tr>\n",
              "      <th>2</th>\n",
              "      <td>St Patrick&amp;#039;s School, Singapore Class of 2...</td>\n",
              "      <td>NaN</td>\n",
              "      <td>male</td>\n",
              "      <td>NaN</td>\n",
              "      <td>AGE10_20</td>\n",
              "      <td>single</td>\n",
              "      <td>college</td>\n",
              "      <td>NaN</td>\n",
              "      <td>NaN</td>\n",
              "    </tr>\n",
              "    <tr>\n",
              "      <th>3</th>\n",
              "      <td>NaN</td>\n",
              "      <td>NaN</td>\n",
              "      <td>female</td>\n",
              "      <td>NaN</td>\n",
              "      <td>NaN</td>\n",
              "      <td>NaN</td>\n",
              "      <td>NaN</td>\n",
              "      <td>NaN</td>\n",
              "      <td>$$</td>\n",
              "    </tr>\n",
              "    <tr>\n",
              "      <th>4</th>\n",
              "      <td>NaN</td>\n",
              "      <td>PT. Duta Marga Lestarindo September 2013 to pr...</td>\n",
              "      <td>female</td>\n",
              "      <td>NaN</td>\n",
              "      <td>NaN</td>\n",
              "      <td>NaN</td>\n",
              "      <td>NaN</td>\n",
              "      <td>archetecture and engineering</td>\n",
              "      <td>NaN</td>\n",
              "    </tr>\n",
              "  </tbody>\n",
              "</table>\n",
              "</div>"
            ],
            "text/plain": [
              "                  educationInfoForAgeGroupEstimation  ... income\n",
              "0                                                NaN  ...    NaN\n",
              "1  Bukit Batok Secondary School ITE College West ...  ...    NaN\n",
              "2  St Patrick&#039;s School, Singapore Class of 2...  ...    NaN\n",
              "3                                                NaN  ...     $$\n",
              "4                                                NaN  ...    NaN\n",
              "\n",
              "[5 rows x 9 columns]"
            ]
          },
          "metadata": {
            "tags": []
          },
          "execution_count": 7
        }
      ]
    },
    {
      "cell_type": "code",
      "metadata": {
        "id": "7SPWr3A7akQU",
        "colab_type": "code",
        "colab": {
          "base_uri": "https://localhost:8080/",
          "height": 187
        },
        "outputId": "e0f87b00-eaef-4352-f495-6939bd2ec246"
      },
      "source": [
        "file_singapore.isnull().sum(axis=0) "
      ],
      "execution_count": 8,
      "outputs": [
        {
          "output_type": "execute_result",
          "data": {
            "text/plain": [
              "educationInfoForAgeGroupEstimation    2498\n",
              "workInfoForAgeGroupEstimation         3063\n",
              "gender                                  11\n",
              "realAge                               4500\n",
              "ageGroup                              3640\n",
              "relationship                          3584\n",
              "educationLevel                        3073\n",
              "occupation                            3856\n",
              "income                                4320\n",
              "dtype: int64"
            ]
          },
          "metadata": {
            "tags": []
          },
          "execution_count": 8
        }
      ]
    },
    {
      "cell_type": "code",
      "metadata": {
        "id": "EwwlrjF5azMj",
        "colab_type": "code",
        "colab": {
          "base_uri": "https://localhost:8080/",
          "height": 170
        },
        "outputId": "686c6220-0e98-4a9f-d780-76653436bb93"
      },
      "source": [
        "column_names = file_singapore.columns\n",
        "for i in column_names:\n",
        "    print('{} Value Length : {}'.format(i, len(file_newyork[i].unique())))"
      ],
      "execution_count": 9,
      "outputs": [
        {
          "output_type": "stream",
          "text": [
            "educationInfoForAgeGroupEstimation Value Length : 674\n",
            "workInfoForAgeGroupEstimation Value Length : 947\n",
            "gender Value Length : 3\n",
            "realAge Value Length : 1\n",
            "ageGroup Value Length : 1\n",
            "relationship Value Length : 4\n",
            "educationLevel Value Length : 5\n",
            "occupation Value Length : 22\n",
            "income Value Length : 5\n"
          ],
          "name": "stdout"
        }
      ]
    },
    {
      "cell_type": "code",
      "metadata": {
        "id": "yt7Yem3Gg894",
        "colab_type": "code",
        "colab": {}
      },
      "source": [
        "# Add city column in each and merge them\n",
        "file_london['city'] = 'London'\n",
        "file_newyork['city'] = 'New York'\n",
        "file_singapore['city'] = 'Singapore'\n",
        "\n",
        "train_data = pd.concat([file_london, file_newyork, file_singapore])"
      ],
      "execution_count": 0,
      "outputs": []
    },
    {
      "cell_type": "code",
      "metadata": {
        "id": "uR7ixMp5hYy7",
        "colab_type": "code",
        "colab": {
          "base_uri": "https://localhost:8080/",
          "height": 204
        },
        "outputId": "99bdcee1-3831-46b8-9819-5c3bed9806d2"
      },
      "source": [
        "train_data.head()"
      ],
      "execution_count": 20,
      "outputs": [
        {
          "output_type": "execute_result",
          "data": {
            "text/html": [
              "<div>\n",
              "<style scoped>\n",
              "    .dataframe tbody tr th:only-of-type {\n",
              "        vertical-align: middle;\n",
              "    }\n",
              "\n",
              "    .dataframe tbody tr th {\n",
              "        vertical-align: top;\n",
              "    }\n",
              "\n",
              "    .dataframe thead th {\n",
              "        text-align: right;\n",
              "    }\n",
              "</style>\n",
              "<table border=\"1\" class=\"dataframe\">\n",
              "  <thead>\n",
              "    <tr style=\"text-align: right;\">\n",
              "      <th></th>\n",
              "      <th>educationInfoForAgeGroupEstimation</th>\n",
              "      <th>workInfoForAgeGroupEstimation</th>\n",
              "      <th>gender</th>\n",
              "      <th>realAge</th>\n",
              "      <th>ageGroup</th>\n",
              "      <th>relationship</th>\n",
              "      <th>educationLevel</th>\n",
              "      <th>occupation</th>\n",
              "      <th>income</th>\n",
              "      <th>city</th>\n",
              "    </tr>\n",
              "  </thead>\n",
              "  <tbody>\n",
              "    <tr>\n",
              "      <th>0</th>\n",
              "      <td>NaN</td>\n",
              "      <td>NaN</td>\n",
              "      <td>female</td>\n",
              "      <td>NaN</td>\n",
              "      <td>NaN</td>\n",
              "      <td>NaN</td>\n",
              "      <td>NaN</td>\n",
              "      <td>NaN</td>\n",
              "      <td>NaN</td>\n",
              "      <td>London</td>\n",
              "    </tr>\n",
              "    <tr>\n",
              "      <th>1</th>\n",
              "      <td>NaN</td>\n",
              "      <td>Edenred Employee Benefits Advisor � November 2...</td>\n",
              "      <td>female</td>\n",
              "      <td>NaN</td>\n",
              "      <td>NaN</td>\n",
              "      <td>NaN</td>\n",
              "      <td>NaN</td>\n",
              "      <td>personal care and service</td>\n",
              "      <td>NaN</td>\n",
              "      <td>London</td>\n",
              "    </tr>\n",
              "    <tr>\n",
              "      <th>2</th>\n",
              "      <td>Uppsala University Egyptology � Uppsala, Sweden</td>\n",
              "      <td>NaN</td>\n",
              "      <td>male</td>\n",
              "      <td>NaN</td>\n",
              "      <td>NaN</td>\n",
              "      <td>NaN</td>\n",
              "      <td>undergraduate</td>\n",
              "      <td>NaN</td>\n",
              "      <td>NaN</td>\n",
              "      <td>London</td>\n",
              "    </tr>\n",
              "    <tr>\n",
              "      <th>3</th>\n",
              "      <td>NaN</td>\n",
              "      <td>Booking.com Cambridge, Cambridgeshire</td>\n",
              "      <td>male</td>\n",
              "      <td>NaN</td>\n",
              "      <td>NaN</td>\n",
              "      <td>NaN</td>\n",
              "      <td>NaN</td>\n",
              "      <td>NaN</td>\n",
              "      <td>NaN</td>\n",
              "      <td>London</td>\n",
              "    </tr>\n",
              "    <tr>\n",
              "      <th>4</th>\n",
              "      <td>University of Verona 2008 to 2010 � Nursing � ...</td>\n",
              "      <td>Coogee Pavilion Pizza Chef � 13 April 2015 to ...</td>\n",
              "      <td>male</td>\n",
              "      <td>NaN</td>\n",
              "      <td>NaN</td>\n",
              "      <td>single</td>\n",
              "      <td>undergraduate</td>\n",
              "      <td>food preparation and service related</td>\n",
              "      <td>NaN</td>\n",
              "      <td>London</td>\n",
              "    </tr>\n",
              "  </tbody>\n",
              "</table>\n",
              "</div>"
            ],
            "text/plain": [
              "                  educationInfoForAgeGroupEstimation  ...    city\n",
              "0                                                NaN  ...  London\n",
              "1                                                NaN  ...  London\n",
              "2    Uppsala University Egyptology � Uppsala, Sweden  ...  London\n",
              "3                                                NaN  ...  London\n",
              "4  University of Verona 2008 to 2010 � Nursing � ...  ...  London\n",
              "\n",
              "[5 rows x 10 columns]"
            ]
          },
          "metadata": {
            "tags": []
          },
          "execution_count": 20
        }
      ]
    },
    {
      "cell_type": "markdown",
      "metadata": {
        "id": "jfTtYcL5SVpf",
        "colab_type": "text"
      },
      "source": [
        "### EDA"
      ]
    },
    {
      "cell_type": "code",
      "metadata": {
        "id": "F4tHK-U0SX4Q",
        "colab_type": "code",
        "colab": {
          "base_uri": "https://localhost:8080/",
          "height": 258
        },
        "outputId": "edc4666a-a11d-4893-899e-759b3de16cbd"
      },
      "source": [
        "# Age Analysis\n",
        "fig, axis = plt.subplots(1, 3)\n",
        "sns.boxplot(y=file_london['realAge'], ax=axis[0])\n",
        "sns.boxplot(y=file_newyork['realAge'], ax=axis[1])\n",
        "sns.boxplot(y=file_singapore['realAge'], ax=axis[2])\n",
        "plt.show()"
      ],
      "execution_count": 10,
      "outputs": [
        {
          "output_type": "display_data",
          "data": {
            "image/png": "[encoded data removed]",
            "text/plain": [
              "<Figure size 432x288 with 3 Axes>"
            ]
          },
          "metadata": {
            "tags": []
          }
        }
      ]
    },
    {
      "cell_type": "code",
      "metadata": {
        "id": "9xEM2MVxT0Bh",
        "colab_type": "code",
        "colab": {
          "base_uri": "https://localhost:8080/",
          "height": 34
        },
        "outputId": "f65266a9-a736-4d60-cac5-7809169b6693"
      },
      "source": [
        "print(file_london['ageGroup'].unique(), file_newyork['ageGroup'].unique(), file_singapore['ageGroup'].unique())"
      ],
      "execution_count": 11,
      "outputs": [
        {
          "output_type": "stream",
          "text": [
            "[nan] [nan] [nan 'AGE10_20' 'AGE20_30' 'AGE30_40' 'AGE40_50' 'AGE50_INF']\n"
          ],
          "name": "stdout"
        }
      ]
    },
    {
      "cell_type": "markdown",
      "metadata": {
        "id": "GgjIR_V8MM0s",
        "colab_type": "text"
      },
      "source": [
        "###### Testing Ground Delete This"
      ]
    },
    {
      "cell_type": "code",
      "metadata": {
        "id": "b2ahhyF4MPXO",
        "colab_type": "code",
        "colab": {
          "base_uri": "https://localhost:8080/",
          "height": 238
        },
        "outputId": "bd580caa-db06-4948-c850-2e30de5dac0e"
      },
      "source": [
        "test_df = file_singapore.dropna(thresh=5, axis=0)\n",
        "test_df.head()"
      ],
      "execution_count": 12,
      "outputs": [
        {
          "output_type": "execute_result",
          "data": {
            "text/html": [
              "<div>\n",
              "<style scoped>\n",
              "    .dataframe tbody tr th:only-of-type {\n",
              "        vertical-align: middle;\n",
              "    }\n",
              "\n",
              "    .dataframe tbody tr th {\n",
              "        vertical-align: top;\n",
              "    }\n",
              "\n",
              "    .dataframe thead th {\n",
              "        text-align: right;\n",
              "    }\n",
              "</style>\n",
              "<table border=\"1\" class=\"dataframe\">\n",
              "  <thead>\n",
              "    <tr style=\"text-align: right;\">\n",
              "      <th></th>\n",
              "      <th>educationInfoForAgeGroupEstimation</th>\n",
              "      <th>workInfoForAgeGroupEstimation</th>\n",
              "      <th>gender</th>\n",
              "      <th>realAge</th>\n",
              "      <th>ageGroup</th>\n",
              "      <th>relationship</th>\n",
              "      <th>educationLevel</th>\n",
              "      <th>occupation</th>\n",
              "      <th>income</th>\n",
              "    </tr>\n",
              "  </thead>\n",
              "  <tbody>\n",
              "    <tr>\n",
              "      <th>2</th>\n",
              "      <td>St Patrick&amp;#039;s School, Singapore Class of 2...</td>\n",
              "      <td>NaN</td>\n",
              "      <td>male</td>\n",
              "      <td>NaN</td>\n",
              "      <td>AGE10_20</td>\n",
              "      <td>single</td>\n",
              "      <td>college</td>\n",
              "      <td>NaN</td>\n",
              "      <td>NaN</td>\n",
              "    </tr>\n",
              "    <tr>\n",
              "      <th>5</th>\n",
              "      <td>Alok Study Group Bandung SMAK TRIMULIA Bandung...</td>\n",
              "      <td>NaN</td>\n",
              "      <td>male</td>\n",
              "      <td>27.0</td>\n",
              "      <td>AGE20_30</td>\n",
              "      <td>single</td>\n",
              "      <td>NaN</td>\n",
              "      <td>NaN</td>\n",
              "      <td>NaN</td>\n",
              "    </tr>\n",
              "    <tr>\n",
              "      <th>16</th>\n",
              "      <td>ITE College East Singapore ITE College East El...</td>\n",
              "      <td>Singapore Armed Forces</td>\n",
              "      <td>male</td>\n",
              "      <td>19.0</td>\n",
              "      <td>AGE20_30</td>\n",
              "      <td>NaN</td>\n",
              "      <td>college</td>\n",
              "      <td>NaN</td>\n",
              "      <td>NaN</td>\n",
              "    </tr>\n",
              "    <tr>\n",
              "      <th>20</th>\n",
              "      <td>NaN</td>\n",
              "      <td>CHiLL-REX! Group April 2011 to present Capture...</td>\n",
              "      <td>male</td>\n",
              "      <td>NaN</td>\n",
              "      <td>NaN</td>\n",
              "      <td>single</td>\n",
              "      <td>NaN</td>\n",
              "      <td>arts, design, entertainment, sports, and media</td>\n",
              "      <td>$$</td>\n",
              "    </tr>\n",
              "    <tr>\n",
              "      <th>30</th>\n",
              "      <td>Chong Boon Secondary School Class of 2005 � Si...</td>\n",
              "      <td>NaN</td>\n",
              "      <td>female</td>\n",
              "      <td>22.0</td>\n",
              "      <td>AGE20_30</td>\n",
              "      <td>NaN</td>\n",
              "      <td>college</td>\n",
              "      <td>NaN</td>\n",
              "      <td>$</td>\n",
              "    </tr>\n",
              "  </tbody>\n",
              "</table>\n",
              "</div>"
            ],
            "text/plain": [
              "                   educationInfoForAgeGroupEstimation  ... income\n",
              "2   St Patrick&#039;s School, Singapore Class of 2...  ...    NaN\n",
              "5   Alok Study Group Bandung SMAK TRIMULIA Bandung...  ...    NaN\n",
              "16  ITE College East Singapore ITE College East El...  ...    NaN\n",
              "20                                                NaN  ...     $$\n",
              "30  Chong Boon Secondary School Class of 2005 � Si...  ...      $\n",
              "\n",
              "[5 rows x 9 columns]"
            ]
          },
          "metadata": {
            "tags": []
          },
          "execution_count": 12
        }
      ]
    },
    {
      "cell_type": "code",
      "metadata": {
        "id": "oxwXLuBiMZpG",
        "colab_type": "code",
        "colab": {
          "base_uri": "https://localhost:8080/",
          "height": 296
        },
        "outputId": "2f9f5c34-345a-4c90-fdc9-4dd58c138237"
      },
      "source": [
        "sns.boxplot(test_df['realAge'])"
      ],
      "execution_count": 13,
      "outputs": [
        {
          "output_type": "execute_result",
          "data": {
            "text/plain": [
              "<matplotlib.axes._subplots.AxesSubplot at 0x7fa675d1b358>"
            ]
          },
          "metadata": {
            "tags": []
          },
          "execution_count": 13
        },
        {
          "output_type": "display_data",
          "data": {
            "image/png": "[encoded data removed]",
            "text/plain": [
              "<Figure size 432x288 with 1 Axes>"
            ]
          },
          "metadata": {
            "tags": []
          }
        }
      ]
    },
    {
      "cell_type": "code",
      "metadata": {
        "id": "oZrMZrfnRMMi",
        "colab_type": "code",
        "colab": {
          "base_uri": "https://localhost:8080/",
          "height": 669
        },
        "outputId": "99aca502-f802-457f-cb62-1a838f9eb64f"
      },
      "source": [
        "file_singapore.apply(lambda x: x.replace('�', '')).head(20)"
      ],
      "execution_count": 14,
      "outputs": [
        {
          "output_type": "execute_result",
          "data": {
            "text/html": [
              "<div>\n",
              "<style scoped>\n",
              "    .dataframe tbody tr th:only-of-type {\n",
              "        vertical-align: middle;\n",
              "    }\n",
              "\n",
              "    .dataframe tbody tr th {\n",
              "        vertical-align: top;\n",
              "    }\n",
              "\n",
              "    .dataframe thead th {\n",
              "        text-align: right;\n",
              "    }\n",
              "</style>\n",
              "<table border=\"1\" class=\"dataframe\">\n",
              "  <thead>\n",
              "    <tr style=\"text-align: right;\">\n",
              "      <th></th>\n",
              "      <th>educationInfoForAgeGroupEstimation</th>\n",
              "      <th>workInfoForAgeGroupEstimation</th>\n",
              "      <th>gender</th>\n",
              "      <th>realAge</th>\n",
              "      <th>ageGroup</th>\n",
              "      <th>relationship</th>\n",
              "      <th>educationLevel</th>\n",
              "      <th>occupation</th>\n",
              "      <th>income</th>\n",
              "    </tr>\n",
              "  </thead>\n",
              "  <tbody>\n",
              "    <tr>\n",
              "      <th>0</th>\n",
              "      <td>NaN</td>\n",
              "      <td>NaN</td>\n",
              "      <td>female</td>\n",
              "      <td>NaN</td>\n",
              "      <td>NaN</td>\n",
              "      <td>NaN</td>\n",
              "      <td>NaN</td>\n",
              "      <td>NaN</td>\n",
              "      <td>NaN</td>\n",
              "    </tr>\n",
              "    <tr>\n",
              "      <th>1</th>\n",
              "      <td>Bukit Batok Secondary School ITE College West ...</td>\n",
              "      <td>NaN</td>\n",
              "      <td>female</td>\n",
              "      <td>NaN</td>\n",
              "      <td>NaN</td>\n",
              "      <td>NaN</td>\n",
              "      <td>college</td>\n",
              "      <td>NaN</td>\n",
              "      <td>NaN</td>\n",
              "    </tr>\n",
              "    <tr>\n",
              "      <th>2</th>\n",
              "      <td>St Patrick&amp;#039;s School, Singapore Class of 2...</td>\n",
              "      <td>NaN</td>\n",
              "      <td>male</td>\n",
              "      <td>NaN</td>\n",
              "      <td>AGE10_20</td>\n",
              "      <td>single</td>\n",
              "      <td>college</td>\n",
              "      <td>NaN</td>\n",
              "      <td>NaN</td>\n",
              "    </tr>\n",
              "    <tr>\n",
              "      <th>3</th>\n",
              "      <td>NaN</td>\n",
              "      <td>NaN</td>\n",
              "      <td>female</td>\n",
              "      <td>NaN</td>\n",
              "      <td>NaN</td>\n",
              "      <td>NaN</td>\n",
              "      <td>NaN</td>\n",
              "      <td>NaN</td>\n",
              "      <td>$$</td>\n",
              "    </tr>\n",
              "    <tr>\n",
              "      <th>4</th>\n",
              "      <td>NaN</td>\n",
              "      <td>PT. Duta Marga Lestarindo September 2013 to pr...</td>\n",
              "      <td>female</td>\n",
              "      <td>NaN</td>\n",
              "      <td>NaN</td>\n",
              "      <td>NaN</td>\n",
              "      <td>NaN</td>\n",
              "      <td>archetecture and engineering</td>\n",
              "      <td>NaN</td>\n",
              "    </tr>\n",
              "    <tr>\n",
              "      <th>5</th>\n",
              "      <td>Alok Study Group Bandung SMAK TRIMULIA Bandung...</td>\n",
              "      <td>NaN</td>\n",
              "      <td>male</td>\n",
              "      <td>27.0</td>\n",
              "      <td>AGE20_30</td>\n",
              "      <td>single</td>\n",
              "      <td>NaN</td>\n",
              "      <td>NaN</td>\n",
              "      <td>NaN</td>\n",
              "    </tr>\n",
              "    <tr>\n",
              "      <th>6</th>\n",
              "      <td>NaN</td>\n",
              "      <td>NaN</td>\n",
              "      <td>female</td>\n",
              "      <td>NaN</td>\n",
              "      <td>NaN</td>\n",
              "      <td>NaN</td>\n",
              "      <td>NaN</td>\n",
              "      <td>NaN</td>\n",
              "      <td>NaN</td>\n",
              "    </tr>\n",
              "    <tr>\n",
              "      <th>7</th>\n",
              "      <td>NaN</td>\n",
              "      <td>NaN</td>\n",
              "      <td>female</td>\n",
              "      <td>NaN</td>\n",
              "      <td>NaN</td>\n",
              "      <td>NaN</td>\n",
              "      <td>NaN</td>\n",
              "      <td>NaN</td>\n",
              "      <td>$</td>\n",
              "    </tr>\n",
              "    <tr>\n",
              "      <th>8</th>\n",
              "      <td>NaN</td>\n",
              "      <td>NaN</td>\n",
              "      <td>female</td>\n",
              "      <td>NaN</td>\n",
              "      <td>NaN</td>\n",
              "      <td>NaN</td>\n",
              "      <td>NaN</td>\n",
              "      <td>NaN</td>\n",
              "      <td>NaN</td>\n",
              "    </tr>\n",
              "    <tr>\n",
              "      <th>9</th>\n",
              "      <td>NaN</td>\n",
              "      <td>NaN</td>\n",
              "      <td>female</td>\n",
              "      <td>NaN</td>\n",
              "      <td>NaN</td>\n",
              "      <td>NaN</td>\n",
              "      <td>NaN</td>\n",
              "      <td>NaN</td>\n",
              "      <td>NaN</td>\n",
              "    </tr>\n",
              "    <tr>\n",
              "      <th>10</th>\n",
              "      <td>Guangyang Secondary School Singapore</td>\n",
              "      <td>Singapore Armed Forces</td>\n",
              "      <td>male</td>\n",
              "      <td>NaN</td>\n",
              "      <td>NaN</td>\n",
              "      <td>NaN</td>\n",
              "      <td>school</td>\n",
              "      <td>NaN</td>\n",
              "      <td>NaN</td>\n",
              "    </tr>\n",
              "    <tr>\n",
              "      <th>11</th>\n",
              "      <td>Ngee Ann Polytechnic Clementi, Singapore Yuan ...</td>\n",
              "      <td>NaN</td>\n",
              "      <td>female</td>\n",
              "      <td>NaN</td>\n",
              "      <td>AGE10_20</td>\n",
              "      <td>NaN</td>\n",
              "      <td>college</td>\n",
              "      <td>NaN</td>\n",
              "      <td>NaN</td>\n",
              "    </tr>\n",
              "    <tr>\n",
              "      <th>12</th>\n",
              "      <td>NaN</td>\n",
              "      <td>Astro Radio 2013 to present</td>\n",
              "      <td>male</td>\n",
              "      <td>NaN</td>\n",
              "      <td>NaN</td>\n",
              "      <td>NaN</td>\n",
              "      <td>NaN</td>\n",
              "      <td>NaN</td>\n",
              "      <td>NaN</td>\n",
              "    </tr>\n",
              "    <tr>\n",
              "      <th>13</th>\n",
              "      <td>CHIJ Toa Payoh Singapore CHIJ Secondary Toa Payoh</td>\n",
              "      <td>Marina Bay Sands Waitress � 2012 to present</td>\n",
              "      <td>female</td>\n",
              "      <td>NaN</td>\n",
              "      <td>NaN</td>\n",
              "      <td>NaN</td>\n",
              "      <td>NaN</td>\n",
              "      <td>food preparation and service related</td>\n",
              "      <td>NaN</td>\n",
              "    </tr>\n",
              "    <tr>\n",
              "      <th>14</th>\n",
              "      <td>Fashion Institute of Design and Merchandising ...</td>\n",
              "      <td>NaN</td>\n",
              "      <td>female</td>\n",
              "      <td>NaN</td>\n",
              "      <td>NaN</td>\n",
              "      <td>NaN</td>\n",
              "      <td>college</td>\n",
              "      <td>NaN</td>\n",
              "      <td>NaN</td>\n",
              "    </tr>\n",
              "    <tr>\n",
              "      <th>15</th>\n",
              "      <td>NaN</td>\n",
              "      <td>NaN</td>\n",
              "      <td>female</td>\n",
              "      <td>NaN</td>\n",
              "      <td>NaN</td>\n",
              "      <td>NaN</td>\n",
              "      <td>NaN</td>\n",
              "      <td>NaN</td>\n",
              "      <td>NaN</td>\n",
              "    </tr>\n",
              "    <tr>\n",
              "      <th>16</th>\n",
              "      <td>ITE College East Singapore ITE College East El...</td>\n",
              "      <td>Singapore Armed Forces</td>\n",
              "      <td>male</td>\n",
              "      <td>19.0</td>\n",
              "      <td>AGE20_30</td>\n",
              "      <td>NaN</td>\n",
              "      <td>college</td>\n",
              "      <td>NaN</td>\n",
              "      <td>NaN</td>\n",
              "    </tr>\n",
              "    <tr>\n",
              "      <th>17</th>\n",
              "      <td>University of the Philippines BA Communication...</td>\n",
              "      <td>NaN</td>\n",
              "      <td>male</td>\n",
              "      <td>NaN</td>\n",
              "      <td>AGE20_30</td>\n",
              "      <td>NaN</td>\n",
              "      <td>undergraduate</td>\n",
              "      <td>NaN</td>\n",
              "      <td>NaN</td>\n",
              "    </tr>\n",
              "    <tr>\n",
              "      <th>18</th>\n",
              "      <td>NaN</td>\n",
              "      <td>3rd Battalion Singapore Infantry Regiment (3SI...</td>\n",
              "      <td>male</td>\n",
              "      <td>NaN</td>\n",
              "      <td>NaN</td>\n",
              "      <td>NaN</td>\n",
              "      <td>NaN</td>\n",
              "      <td>NaN</td>\n",
              "      <td>NaN</td>\n",
              "    </tr>\n",
              "    <tr>\n",
              "      <th>19</th>\n",
              "      <td>Bishan Park Secondary School Singapore</td>\n",
              "      <td>NaN</td>\n",
              "      <td>male</td>\n",
              "      <td>NaN</td>\n",
              "      <td>NaN</td>\n",
              "      <td>single</td>\n",
              "      <td>school</td>\n",
              "      <td>NaN</td>\n",
              "      <td>NaN</td>\n",
              "    </tr>\n",
              "  </tbody>\n",
              "</table>\n",
              "</div>"
            ],
            "text/plain": [
              "                   educationInfoForAgeGroupEstimation  ... income\n",
              "0                                                 NaN  ...    NaN\n",
              "1   Bukit Batok Secondary School ITE College West ...  ...    NaN\n",
              "2   St Patrick&#039;s School, Singapore Class of 2...  ...    NaN\n",
              "3                                                 NaN  ...     $$\n",
              "4                                                 NaN  ...    NaN\n",
              "5   Alok Study Group Bandung SMAK TRIMULIA Bandung...  ...    NaN\n",
              "6                                                 NaN  ...    NaN\n",
              "7                                                 NaN  ...      $\n",
              "8                                                 NaN  ...    NaN\n",
              "9                                                 NaN  ...    NaN\n",
              "10               Guangyang Secondary School Singapore  ...    NaN\n",
              "11  Ngee Ann Polytechnic Clementi, Singapore Yuan ...  ...    NaN\n",
              "12                                                NaN  ...    NaN\n",
              "13  CHIJ Toa Payoh Singapore CHIJ Secondary Toa Payoh  ...    NaN\n",
              "14  Fashion Institute of Design and Merchandising ...  ...    NaN\n",
              "15                                                NaN  ...    NaN\n",
              "16  ITE College East Singapore ITE College East El...  ...    NaN\n",
              "17  University of the Philippines BA Communication...  ...    NaN\n",
              "18                                                NaN  ...    NaN\n",
              "19             Bishan Park Secondary School Singapore  ...    NaN\n",
              "\n",
              "[20 rows x 9 columns]"
            ]
          },
          "metadata": {
            "tags": []
          },
          "execution_count": 14
        }
      ]
    },
    {
      "cell_type": "markdown",
      "metadata": {
        "id": "ahdqhz7rQtMe",
        "colab_type": "text"
      },
      "source": [
        "### Data Cleaning"
      ]
    },
    {
      "cell_type": "code",
      "metadata": {
        "id": "TsqVm4yTNb4t",
        "colab_type": "code",
        "colab": {}
      },
      "source": [
        "# Custom Dictionaries\n",
        "gender_dict = {'male' : 0, 'female' : 1}\n",
        "reverse_gender_dict = {v:k for k, v in gender_dict.items()}\n",
        "age_group_dict = {'UNKNOWN': 0, 'AGE10_20': 1, 'AGE20_30': 2, 'AGE30_40': 3, 'AGE40_50': 4, 'AGE50_INF': 5}\n",
        "reverse_age_group_dict = {v:k for k, v in age_group_dict.items()}\n",
        "city_dict = {'London': 1, 'New York': 2, 'Singapore': 3}\n",
        "reverse_city_dict = { v:k for k, v in city_dict.items() }\n"
      ],
      "execution_count": 0,
      "outputs": []
    },
    {
      "cell_type": "code",
      "metadata": {
        "id": "jRs0mCcxQfnE",
        "colab_type": "code",
        "colab": {
          "base_uri": "https://localhost:8080/",
          "height": 34
        },
        "outputId": "a5618589-f376-4d91-d363-2da73ed4a6be"
      },
      "source": [
        "class PreProcessor:\n",
        "    \"\"\"\n",
        "    Takes a raw DataFrame as input and returns a cleaned and processor\n",
        "    \"\"\"\n",
        "    def __init__(self, nan_drop_threshold=5, train=True, gender_dict=gender_dict, age_group_dict=age_group_dict,\n",
        "                 city_dict=city_dict):\n",
        "        self.nan_drop_threshold = nan_drop_threshold\n",
        "        self.train = train\n",
        "        self.gender_dict = gender_dict\n",
        "        self.age_group_dict = age_group_dict\n",
        "        self.city_dict = city_dict\n",
        "\n",
        "    def clean(self, dataframe):\n",
        "        \"\"\"\n",
        "        The Clean method will clean the dataframe \n",
        "        Operations Performed:\n",
        "        * Remove the Rows with more than 5 nan's if Train set\n",
        "        * Replace Gender to numeric values\n",
        "\n",
        "        Parameters:\n",
        "        dataframe: Pandas DataFrame\n",
        "\n",
        "        Output:\n",
        "        dataframe: Pandas DataFrame\n",
        "        \"\"\"\n",
        "\n",
        "        # Remove Rows with more than 5 nan's\n",
        "        if train:\n",
        "            dataframe.dropna(thresh=5, axis=0, inplace=True)\n",
        "\n",
        "        dataframe['gender'].replace(self.gender_dict, inplace=True)\n",
        "        \n",
        "        # Quantize known and Unkown age groups\n",
        "        dataframe['ageGroup'].fillna('UNKNOWN')\n",
        "        dataframe['ageGroup'].replace(self.age_group_dict)\n",
        "\n",
        "        \n",
        "\n",
        "        \n"
      ],
      "execution_count": 32,
      "outputs": [
        {
          "output_type": "execute_result",
          "data": {
            "text/plain": [
              "array([nan])"
            ]
          },
          "metadata": {
            "tags": []
          },
          "execution_count": 32
        }
      ]
    },
    {
      "cell_type": "code",
      "metadata": {
        "id": "P--25QGbQ2Kw",
        "colab_type": "code",
        "colab": {
          "base_uri": "https://localhost:8080/",
          "height": 34
        },
        "outputId": "76c6b51c-d247-44fd-b913-13b4d2629f58"
      },
      "source": [
        ""
      ],
      "execution_count": 75,
      "outputs": [
        {
          "output_type": "stream",
          "text": [
            "�\n"
          ],
          "name": "stdout"
        }
      ]
    },
    {
      "cell_type": "code",
      "metadata": {
        "id": "PYhLTp6AKPfd",
        "colab_type": "code",
        "colab": {}
      },
      "source": [
        ""
      ],
      "execution_count": 0,
      "outputs": []
    }
  ]
}