{
  "nbformat": 4,
  "nbformat_minor": 0,
  "metadata": {
    "kernelspec": {
      "display_name": "Python 3",
      "language": "python",
      "name": "python3"
    },
    "language_info": {
      "codemirror_mode": {
        "name": "ipython",
        "version": 3
      },
      "file_extension": ".py",
      "mimetype": "text/x-python",
      "name": "python",
      "nbconvert_exporter": "python",
      "pygments_lexer": "ipython3",
      "version": "3.6.9"
    },
    "colab": {
      "name": "Demographic_Prediction.ipynb",
      "provenance": [],
      "include_colab_link": true
    }
  },
  "cells": [
    {
      "cell_type": "markdown",
      "metadata": {
        "id": "view-in-github",
        "colab_type": "text"
      },
      "source": [
        "<a href=\"https://colab.research.google.com/github/shivammehta007/Social-Network-Analysis/blob/master/Demographic_Prediction.ipynb\" target=\"_parent\"><img src=\"https://colab.research.google.com/assets/colab-badge.svg\" alt=\"Open In Colab\"/></a>"
      ]
    },
    {
      "cell_type": "code",
      "metadata": {
        "id": "nybkTIEmMUkt",
        "colab_type": "code",
        "colab": {
          "base_uri": "https://localhost:8080/",
          "height": 122
        },
        "outputId": "3afdbaf0-cf33-41f1-e662-15a39d84487e"
      },
      "source": [
        "from google.colab import drive\n",
        "drive.mount('/content/drive')"
      ],
      "execution_count": 4,
      "outputs": [
        {
          "output_type": "stream",
          "text": [
            "Go to this URL in a browser: https://accounts.google.com/o/oauth2/auth?client_id=947318989803-6bn6qk8qdgf4n4g3pfee6491hc0brc4i.apps.googleusercontent.com&redirect_uri=urn%3aietf%3awg%3aoauth%3a2.0%3aoob&response_type=code&scope=email%20https%3a%2f%2fwww.googleapis.com%2fauth%2fdocs.test%20https%3a%2f%2fwww.googleapis.com%2fauth%2fdrive%20https%3a%2f%2fwww.googleapis.com%2fauth%2fdrive.photos.readonly%20https%3a%2f%2fwww.googleapis.com%2fauth%2fpeopleapi.readonly\n",
            "\n",
            "Enter your authorization code:\n",
            "··········\n",
            "Mounted at /content/drive\n"
          ],
          "name": "stdout"
        }
      ]
    },
    {
      "cell_type": "code",
      "metadata": {
        "id": "Ll-1Nl5_M7Lw",
        "colab_type": "code",
        "colab": {}
      },
      "source": [
        "import os\n",
        "import numpy as np\n",
        "import pandas as pd\n",
        "import matplotlib.pyplot as plt\n",
        "import random\n",
        "import seaborn as sns\n",
        "from sklearn.feature_extraction.text import CountVectorizer\n",
        "from sklearn.preprocessing import LabelEncoder\n",
        "from sklearn.model_selection import train_test_split\n",
        "from sklearn.model_selection import GridSearchCV\n",
        "from sklearn.svm import SVC\n",
        "import scipy.sparse as sp\n",
        "from sklearn.metrics import f1_score, accuracy_score\n",
        "from sklearn.ensemble import RandomForestClassifier, VotingClassifier\n",
        "from sklearn.neural_network import MLPClassifier\n",
        "\n",
        "\n",
        "%matplotlib inline\n",
        "# Setting up custom random seeds,\n",
        "SEED = 1234\n",
        "torch.manual_seed(SEED)\n",
        "torch.cuda.manual_seed(SEED)\n",
        "np.random.seed(SEED)\n",
        "torch.backends.cudnn.deterministic = True\n",
        "random.seed(SEED)\n"
      ],
      "execution_count": 0,
      "outputs": []
    },
    {
      "cell_type": "markdown",
      "metadata": {
        "id": "_wNajvtIQlB-",
        "colab_type": "text"
      },
      "source": [
        "## Opening Data"
      ]
    },
    {
      "cell_type": "code",
      "metadata": {
        "id": "_fS5hHy8MVsW",
        "colab_type": "code",
        "colab": {}
      },
      "source": [
        "data_path = os.path.join('drive', 'My Drive', 'Colab Notebooks', 'SNA Lab', 'SNA-Lab3')\n",
        "file_london = pd.read_csv(os.path.join(data_path, 'LondonTrain.csv'))\n",
        "file_newyork = pd.read_csv(os.path.join(data_path, 'NYTrain.csv'))\n",
        "file_singapore = pd.read_csv(os.path.join(data_path, 'SingaporeTrain.csv'))"
      ],
      "execution_count": 0,
      "outputs": []
    },
    {
      "cell_type": "markdown",
      "metadata": {
        "id": "5lMiciJcQT-B",
        "colab_type": "text"
      },
      "source": [
        "## EDA: Exploratory Data Analysis"
      ]
    },
    {
      "cell_type": "markdown",
      "metadata": {
        "id": "xkjhauYGQbQN",
        "colab_type": "text"
      },
      "source": [
        "### Heads"
      ]
    },
    {
      "cell_type": "code",
      "metadata": {
        "id": "CLErAX_eWWDp",
        "colab_type": "code",
        "colab": {}
      },
      "source": [
        "# Dropping Row ID\n",
        "file_london.drop(['row ID'], axis=1, inplace=True)\n",
        "file_newyork.drop(['row ID'], axis=1, inplace=True)\n",
        "file_singapore.drop(['row ID'], axis=1, inplace=True)"
      ],
      "execution_count": 0,
      "outputs": []
    },
    {
      "cell_type": "code",
      "metadata": {
        "id": "VXh9F0UxM4mO",
        "colab_type": "code",
        "colab": {
          "base_uri": "https://localhost:8080/",
          "height": 204
        },
        "outputId": "7251012c-a465-4e63-e227-d1648327e62e"
      },
      "source": [
        "file_london.head()"
      ],
      "execution_count": 7,
      "outputs": [
        {
          "output_type": "execute_result",
          "data": {
            "text/html": [
              "<div>\n",
              "<style scoped>\n",
              "    .dataframe tbody tr th:only-of-type {\n",
              "        vertical-align: middle;\n",
              "    }\n",
              "\n",
              "    .dataframe tbody tr th {\n",
              "        vertical-align: top;\n",
              "    }\n",
              "\n",
              "    .dataframe thead th {\n",
              "        text-align: right;\n",
              "    }\n",
              "</style>\n",
              "<table border=\"1\" class=\"dataframe\">\n",
              "  <thead>\n",
              "    <tr style=\"text-align: right;\">\n",
              "      <th></th>\n",
              "      <th>educationInfoForAgeGroupEstimation</th>\n",
              "      <th>workInfoForAgeGroupEstimation</th>\n",
              "      <th>gender</th>\n",
              "      <th>realAge</th>\n",
              "      <th>ageGroup</th>\n",
              "      <th>relationship</th>\n",
              "      <th>educationLevel</th>\n",
              "      <th>occupation</th>\n",
              "      <th>income</th>\n",
              "    </tr>\n",
              "  </thead>\n",
              "  <tbody>\n",
              "    <tr>\n",
              "      <th>0</th>\n",
              "      <td>NaN</td>\n",
              "      <td>NaN</td>\n",
              "      <td>female</td>\n",
              "      <td>NaN</td>\n",
              "      <td>NaN</td>\n",
              "      <td>NaN</td>\n",
              "      <td>NaN</td>\n",
              "      <td>NaN</td>\n",
              "      <td>NaN</td>\n",
              "    </tr>\n",
              "    <tr>\n",
              "      <th>1</th>\n",
              "      <td>NaN</td>\n",
              "      <td>Edenred Employee Benefits Advisor  November 20...</td>\n",
              "      <td>female</td>\n",
              "      <td>NaN</td>\n",
              "      <td>NaN</td>\n",
              "      <td>NaN</td>\n",
              "      <td>NaN</td>\n",
              "      <td>personal care and service</td>\n",
              "      <td>NaN</td>\n",
              "    </tr>\n",
              "    <tr>\n",
              "      <th>2</th>\n",
              "      <td>Uppsala University Egyptology  Uppsala, Sweden</td>\n",
              "      <td>NaN</td>\n",
              "      <td>male</td>\n",
              "      <td>NaN</td>\n",
              "      <td>NaN</td>\n",
              "      <td>NaN</td>\n",
              "      <td>undergraduate</td>\n",
              "      <td>NaN</td>\n",
              "      <td>NaN</td>\n",
              "    </tr>\n",
              "    <tr>\n",
              "      <th>3</th>\n",
              "      <td>NaN</td>\n",
              "      <td>Booking.com Cambridge, Cambridgeshire</td>\n",
              "      <td>male</td>\n",
              "      <td>NaN</td>\n",
              "      <td>NaN</td>\n",
              "      <td>NaN</td>\n",
              "      <td>NaN</td>\n",
              "      <td>NaN</td>\n",
              "      <td>NaN</td>\n",
              "    </tr>\n",
              "    <tr>\n",
              "      <th>4</th>\n",
              "      <td>University of Verona 2008 to 2010  Nursing  Ve...</td>\n",
              "      <td>Coogee Pavilion Pizza Chef  13 April 2015 to p...</td>\n",
              "      <td>male</td>\n",
              "      <td>NaN</td>\n",
              "      <td>NaN</td>\n",
              "      <td>single</td>\n",
              "      <td>undergraduate</td>\n",
              "      <td>food preparation and service related</td>\n",
              "      <td>NaN</td>\n",
              "    </tr>\n",
              "  </tbody>\n",
              "</table>\n",
              "</div>"
            ],
            "text/plain": [
              "                  educationInfoForAgeGroupEstimation  ... income\n",
              "0                                                NaN  ...    NaN\n",
              "1                                                NaN  ...    NaN\n",
              "2     Uppsala University Egyptology  Uppsala, Sweden  ...    NaN\n",
              "3                                                NaN  ...    NaN\n",
              "4  University of Verona 2008 to 2010  Nursing  Ve...  ...    NaN\n",
              "\n",
              "[5 rows x 9 columns]"
            ]
          },
          "metadata": {
            "tags": []
          },
          "execution_count": 7
        }
      ]
    },
    {
      "cell_type": "code",
      "metadata": {
        "id": "Nkd3ni68NO-W",
        "colab_type": "code",
        "colab": {
          "base_uri": "https://localhost:8080/",
          "height": 204
        },
        "outputId": "8f6a3389-0c81-4766-c44c-85d21ccecd2b"
      },
      "source": [
        "file_newyork.head()"
      ],
      "execution_count": 8,
      "outputs": [
        {
          "output_type": "execute_result",
          "data": {
            "text/html": [
              "<div>\n",
              "<style scoped>\n",
              "    .dataframe tbody tr th:only-of-type {\n",
              "        vertical-align: middle;\n",
              "    }\n",
              "\n",
              "    .dataframe tbody tr th {\n",
              "        vertical-align: top;\n",
              "    }\n",
              "\n",
              "    .dataframe thead th {\n",
              "        text-align: right;\n",
              "    }\n",
              "</style>\n",
              "<table border=\"1\" class=\"dataframe\">\n",
              "  <thead>\n",
              "    <tr style=\"text-align: right;\">\n",
              "      <th></th>\n",
              "      <th>educationInfoForAgeGroupEstimation</th>\n",
              "      <th>workInfoForAgeGroupEstimation</th>\n",
              "      <th>gender</th>\n",
              "      <th>realAge</th>\n",
              "      <th>ageGroup</th>\n",
              "      <th>relationship</th>\n",
              "      <th>educationLevel</th>\n",
              "      <th>occupation</th>\n",
              "      <th>income</th>\n",
              "    </tr>\n",
              "  </thead>\n",
              "  <tbody>\n",
              "    <tr>\n",
              "      <th>0</th>\n",
              "      <td>Universidad Santo Toms Class of 2009  Psycholo...</td>\n",
              "      <td>GMO Chile Analista de Seleccin y Desarrollo  A...</td>\n",
              "      <td>female</td>\n",
              "      <td>NaN</td>\n",
              "      <td>NaN</td>\n",
              "      <td>NaN</td>\n",
              "      <td>NaN</td>\n",
              "      <td>NaN</td>\n",
              "      <td>NaN</td>\n",
              "    </tr>\n",
              "    <tr>\n",
              "      <th>1</th>\n",
              "      <td>NaN</td>\n",
              "      <td>NaN</td>\n",
              "      <td>male</td>\n",
              "      <td>NaN</td>\n",
              "      <td>NaN</td>\n",
              "      <td>NaN</td>\n",
              "      <td>NaN</td>\n",
              "      <td>NaN</td>\n",
              "      <td>NaN</td>\n",
              "    </tr>\n",
              "    <tr>\n",
              "      <th>2</th>\n",
              "      <td>NaN</td>\n",
              "      <td>NaN</td>\n",
              "      <td>male</td>\n",
              "      <td>NaN</td>\n",
              "      <td>NaN</td>\n",
              "      <td>in a relationship</td>\n",
              "      <td>NaN</td>\n",
              "      <td>NaN</td>\n",
              "      <td>NaN</td>\n",
              "    </tr>\n",
              "    <tr>\n",
              "      <th>3</th>\n",
              "      <td>NaN</td>\n",
              "      <td>Commonwealth of Massachusetts Legislative Aide...</td>\n",
              "      <td>male</td>\n",
              "      <td>NaN</td>\n",
              "      <td>NaN</td>\n",
              "      <td>NaN</td>\n",
              "      <td>NaN</td>\n",
              "      <td>healthcare support</td>\n",
              "      <td>NaN</td>\n",
              "    </tr>\n",
              "    <tr>\n",
              "      <th>4</th>\n",
              "      <td>NaN</td>\n",
              "      <td>Mindshare Pan Regional Director  1 October 201...</td>\n",
              "      <td>female</td>\n",
              "      <td>NaN</td>\n",
              "      <td>NaN</td>\n",
              "      <td>NaN</td>\n",
              "      <td>NaN</td>\n",
              "      <td>management</td>\n",
              "      <td>NaN</td>\n",
              "    </tr>\n",
              "  </tbody>\n",
              "</table>\n",
              "</div>"
            ],
            "text/plain": [
              "                  educationInfoForAgeGroupEstimation  ... income\n",
              "0  Universidad Santo Toms Class of 2009  Psycholo...  ...    NaN\n",
              "1                                                NaN  ...    NaN\n",
              "2                                                NaN  ...    NaN\n",
              "3                                                NaN  ...    NaN\n",
              "4                                                NaN  ...    NaN\n",
              "\n",
              "[5 rows x 9 columns]"
            ]
          },
          "metadata": {
            "tags": []
          },
          "execution_count": 8
        }
      ]
    },
    {
      "cell_type": "code",
      "metadata": {
        "id": "A0tEshH8QPIj",
        "colab_type": "code",
        "colab": {
          "base_uri": "https://localhost:8080/",
          "height": 204
        },
        "outputId": "fa2dff57-391b-496e-d354-e8886eda79ff"
      },
      "source": [
        "file_singapore.head()"
      ],
      "execution_count": 9,
      "outputs": [
        {
          "output_type": "execute_result",
          "data": {
            "text/html": [
              "<div>\n",
              "<style scoped>\n",
              "    .dataframe tbody tr th:only-of-type {\n",
              "        vertical-align: middle;\n",
              "    }\n",
              "\n",
              "    .dataframe tbody tr th {\n",
              "        vertical-align: top;\n",
              "    }\n",
              "\n",
              "    .dataframe thead th {\n",
              "        text-align: right;\n",
              "    }\n",
              "</style>\n",
              "<table border=\"1\" class=\"dataframe\">\n",
              "  <thead>\n",
              "    <tr style=\"text-align: right;\">\n",
              "      <th></th>\n",
              "      <th>educationInfoForAgeGroupEstimation</th>\n",
              "      <th>workInfoForAgeGroupEstimation</th>\n",
              "      <th>gender</th>\n",
              "      <th>realAge</th>\n",
              "      <th>ageGroup</th>\n",
              "      <th>relationship</th>\n",
              "      <th>educationLevel</th>\n",
              "      <th>occupation</th>\n",
              "      <th>income</th>\n",
              "    </tr>\n",
              "  </thead>\n",
              "  <tbody>\n",
              "    <tr>\n",
              "      <th>0</th>\n",
              "      <td>NaN</td>\n",
              "      <td>NaN</td>\n",
              "      <td>female</td>\n",
              "      <td>NaN</td>\n",
              "      <td>NaN</td>\n",
              "      <td>NaN</td>\n",
              "      <td>NaN</td>\n",
              "      <td>NaN</td>\n",
              "      <td>NaN</td>\n",
              "    </tr>\n",
              "    <tr>\n",
              "      <th>1</th>\n",
              "      <td>Bukit Batok Secondary School ITE College West ...</td>\n",
              "      <td>NaN</td>\n",
              "      <td>female</td>\n",
              "      <td>NaN</td>\n",
              "      <td>NaN</td>\n",
              "      <td>NaN</td>\n",
              "      <td>college</td>\n",
              "      <td>NaN</td>\n",
              "      <td>NaN</td>\n",
              "    </tr>\n",
              "    <tr>\n",
              "      <th>2</th>\n",
              "      <td>St Patrick&amp;#039;s School, Singapore Class of 2...</td>\n",
              "      <td>NaN</td>\n",
              "      <td>male</td>\n",
              "      <td>NaN</td>\n",
              "      <td>AGE10_20</td>\n",
              "      <td>single</td>\n",
              "      <td>college</td>\n",
              "      <td>NaN</td>\n",
              "      <td>NaN</td>\n",
              "    </tr>\n",
              "    <tr>\n",
              "      <th>3</th>\n",
              "      <td>NaN</td>\n",
              "      <td>NaN</td>\n",
              "      <td>female</td>\n",
              "      <td>NaN</td>\n",
              "      <td>NaN</td>\n",
              "      <td>NaN</td>\n",
              "      <td>NaN</td>\n",
              "      <td>NaN</td>\n",
              "      <td>$$</td>\n",
              "    </tr>\n",
              "    <tr>\n",
              "      <th>4</th>\n",
              "      <td>NaN</td>\n",
              "      <td>PT. Duta Marga Lestarindo September 2013 to pr...</td>\n",
              "      <td>female</td>\n",
              "      <td>NaN</td>\n",
              "      <td>NaN</td>\n",
              "      <td>NaN</td>\n",
              "      <td>NaN</td>\n",
              "      <td>archetecture and engineering</td>\n",
              "      <td>NaN</td>\n",
              "    </tr>\n",
              "  </tbody>\n",
              "</table>\n",
              "</div>"
            ],
            "text/plain": [
              "                  educationInfoForAgeGroupEstimation  ... income\n",
              "0                                                NaN  ...    NaN\n",
              "1  Bukit Batok Secondary School ITE College West ...  ...    NaN\n",
              "2  St Patrick&#039;s School, Singapore Class of 2...  ...    NaN\n",
              "3                                                NaN  ...     $$\n",
              "4                                                NaN  ...    NaN\n",
              "\n",
              "[5 rows x 9 columns]"
            ]
          },
          "metadata": {
            "tags": []
          },
          "execution_count": 9
        }
      ]
    },
    {
      "cell_type": "code",
      "metadata": {
        "id": "7SPWr3A7akQU",
        "colab_type": "code",
        "colab": {
          "base_uri": "https://localhost:8080/",
          "height": 187
        },
        "outputId": "f5f846e1-b699-4c45-adb3-b03698e85bd7"
      },
      "source": [
        "file_singapore.isnull().sum(axis=0) "
      ],
      "execution_count": 10,
      "outputs": [
        {
          "output_type": "execute_result",
          "data": {
            "text/plain": [
              "educationInfoForAgeGroupEstimation    2498\n",
              "workInfoForAgeGroupEstimation         3063\n",
              "gender                                  11\n",
              "realAge                               4500\n",
              "ageGroup                              3640\n",
              "relationship                          3584\n",
              "educationLevel                        3073\n",
              "occupation                            3856\n",
              "income                                4320\n",
              "dtype: int64"
            ]
          },
          "metadata": {
            "tags": []
          },
          "execution_count": 10
        }
      ]
    },
    {
      "cell_type": "code",
      "metadata": {
        "id": "EwwlrjF5azMj",
        "colab_type": "code",
        "colab": {
          "base_uri": "https://localhost:8080/",
          "height": 170
        },
        "outputId": "20a399be-3199-4e83-ac8e-d7fbca2f55b7"
      },
      "source": [
        "column_names = file_singapore.columns\n",
        "for i in column_names:\n",
        "    print('{} Value Length : {}'.format(i, len(file_newyork[i].unique())))"
      ],
      "execution_count": 11,
      "outputs": [
        {
          "output_type": "stream",
          "text": [
            "educationInfoForAgeGroupEstimation Value Length : 674\n",
            "workInfoForAgeGroupEstimation Value Length : 947\n",
            "gender Value Length : 3\n",
            "realAge Value Length : 1\n",
            "ageGroup Value Length : 1\n",
            "relationship Value Length : 4\n",
            "educationLevel Value Length : 5\n",
            "occupation Value Length : 22\n",
            "income Value Length : 5\n"
          ],
          "name": "stdout"
        }
      ]
    },
    {
      "cell_type": "code",
      "metadata": {
        "id": "yt7Yem3Gg894",
        "colab_type": "code",
        "colab": {}
      },
      "source": [
        "# Add city column in each and merge them\n",
        "file_london['city'] = 'London'\n",
        "file_newyork['city'] = 'New York'\n",
        "file_singapore['city'] = 'Singapore'\n",
        "\n",
        "train_data = pd.concat([file_london, file_newyork, file_singapore])"
      ],
      "execution_count": 0,
      "outputs": []
    },
    {
      "cell_type": "code",
      "metadata": {
        "id": "uR7ixMp5hYy7",
        "colab_type": "code",
        "colab": {
          "base_uri": "https://localhost:8080/",
          "height": 204
        },
        "outputId": "3f23e7f0-a329-4a1e-caeb-7f2c4b026cbd"
      },
      "source": [
        "train_data.head()"
      ],
      "execution_count": 13,
      "outputs": [
        {
          "output_type": "execute_result",
          "data": {
            "text/html": [
              "<div>\n",
              "<style scoped>\n",
              "    .dataframe tbody tr th:only-of-type {\n",
              "        vertical-align: middle;\n",
              "    }\n",
              "\n",
              "    .dataframe tbody tr th {\n",
              "        vertical-align: top;\n",
              "    }\n",
              "\n",
              "    .dataframe thead th {\n",
              "        text-align: right;\n",
              "    }\n",
              "</style>\n",
              "<table border=\"1\" class=\"dataframe\">\n",
              "  <thead>\n",
              "    <tr style=\"text-align: right;\">\n",
              "      <th></th>\n",
              "      <th>educationInfoForAgeGroupEstimation</th>\n",
              "      <th>workInfoForAgeGroupEstimation</th>\n",
              "      <th>gender</th>\n",
              "      <th>realAge</th>\n",
              "      <th>ageGroup</th>\n",
              "      <th>relationship</th>\n",
              "      <th>educationLevel</th>\n",
              "      <th>occupation</th>\n",
              "      <th>income</th>\n",
              "      <th>city</th>\n",
              "    </tr>\n",
              "  </thead>\n",
              "  <tbody>\n",
              "    <tr>\n",
              "      <th>0</th>\n",
              "      <td>NaN</td>\n",
              "      <td>NaN</td>\n",
              "      <td>female</td>\n",
              "      <td>NaN</td>\n",
              "      <td>NaN</td>\n",
              "      <td>NaN</td>\n",
              "      <td>NaN</td>\n",
              "      <td>NaN</td>\n",
              "      <td>NaN</td>\n",
              "      <td>London</td>\n",
              "    </tr>\n",
              "    <tr>\n",
              "      <th>1</th>\n",
              "      <td>NaN</td>\n",
              "      <td>Edenred Employee Benefits Advisor  November 20...</td>\n",
              "      <td>female</td>\n",
              "      <td>NaN</td>\n",
              "      <td>NaN</td>\n",
              "      <td>NaN</td>\n",
              "      <td>NaN</td>\n",
              "      <td>personal care and service</td>\n",
              "      <td>NaN</td>\n",
              "      <td>London</td>\n",
              "    </tr>\n",
              "    <tr>\n",
              "      <th>2</th>\n",
              "      <td>Uppsala University Egyptology  Uppsala, Sweden</td>\n",
              "      <td>NaN</td>\n",
              "      <td>male</td>\n",
              "      <td>NaN</td>\n",
              "      <td>NaN</td>\n",
              "      <td>NaN</td>\n",
              "      <td>undergraduate</td>\n",
              "      <td>NaN</td>\n",
              "      <td>NaN</td>\n",
              "      <td>London</td>\n",
              "    </tr>\n",
              "    <tr>\n",
              "      <th>3</th>\n",
              "      <td>NaN</td>\n",
              "      <td>Booking.com Cambridge, Cambridgeshire</td>\n",
              "      <td>male</td>\n",
              "      <td>NaN</td>\n",
              "      <td>NaN</td>\n",
              "      <td>NaN</td>\n",
              "      <td>NaN</td>\n",
              "      <td>NaN</td>\n",
              "      <td>NaN</td>\n",
              "      <td>London</td>\n",
              "    </tr>\n",
              "    <tr>\n",
              "      <th>4</th>\n",
              "      <td>University of Verona 2008 to 2010  Nursing  Ve...</td>\n",
              "      <td>Coogee Pavilion Pizza Chef  13 April 2015 to p...</td>\n",
              "      <td>male</td>\n",
              "      <td>NaN</td>\n",
              "      <td>NaN</td>\n",
              "      <td>single</td>\n",
              "      <td>undergraduate</td>\n",
              "      <td>food preparation and service related</td>\n",
              "      <td>NaN</td>\n",
              "      <td>London</td>\n",
              "    </tr>\n",
              "  </tbody>\n",
              "</table>\n",
              "</div>"
            ],
            "text/plain": [
              "                  educationInfoForAgeGroupEstimation  ...    city\n",
              "0                                                NaN  ...  London\n",
              "1                                                NaN  ...  London\n",
              "2     Uppsala University Egyptology  Uppsala, Sweden  ...  London\n",
              "3                                                NaN  ...  London\n",
              "4  University of Verona 2008 to 2010  Nursing  Ve...  ...  London\n",
              "\n",
              "[5 rows x 10 columns]"
            ]
          },
          "metadata": {
            "tags": []
          },
          "execution_count": 13
        }
      ]
    },
    {
      "cell_type": "markdown",
      "metadata": {
        "id": "jfTtYcL5SVpf",
        "colab_type": "text"
      },
      "source": [
        "### EDA"
      ]
    },
    {
      "cell_type": "code",
      "metadata": {
        "id": "F4tHK-U0SX4Q",
        "colab_type": "code",
        "colab": {
          "base_uri": "https://localhost:8080/",
          "height": 258
        },
        "outputId": "16478763-71a0-4f67-af76-c7e09454fa3b"
      },
      "source": [
        "# Age Analysis\n",
        "fig, axis = plt.subplots(1, 3)\n",
        "sns.boxplot(y=file_london['realAge'], ax=axis[0])\n",
        "sns.boxplot(y=file_newyork['realAge'], ax=axis[1])\n",
        "sns.boxplot(y=file_singapore['realAge'], ax=axis[2])\n",
        "plt.show()"
      ],
      "execution_count": 14,
      "outputs": [
        {
          "output_type": "display_data",
          "data": {
            "image/png": "[encoded data removed]",
            "text/plain": [
              "<Figure size 432x288 with 3 Axes>"
            ]
          },
          "metadata": {
            "tags": []
          }
        }
      ]
    },
    {
      "cell_type": "code",
      "metadata": {
        "id": "9xEM2MVxT0Bh",
        "colab_type": "code",
        "colab": {
          "base_uri": "https://localhost:8080/",
          "height": 34
        },
        "outputId": "7778a953-a78a-4c60-84c5-07d5076c6d26"
      },
      "source": [
        "print(file_london['ageGroup'].unique(), file_newyork['ageGroup'].unique(), file_singapore['ageGroup'].unique())"
      ],
      "execution_count": 15,
      "outputs": [
        {
          "output_type": "stream",
          "text": [
            "[nan] [nan] [nan 'AGE10_20' 'AGE20_30' 'AGE30_40' 'AGE40_50' 'AGE50_INF']\n"
          ],
          "name": "stdout"
        }
      ]
    },
    {
      "cell_type": "markdown",
      "metadata": {
        "id": "GgjIR_V8MM0s",
        "colab_type": "text"
      },
      "source": [
        "###### Testing Ground Delete This"
      ]
    },
    {
      "cell_type": "code",
      "metadata": {
        "id": "b2ahhyF4MPXO",
        "colab_type": "code",
        "colab": {
          "base_uri": "https://localhost:8080/",
          "height": 204
        },
        "outputId": "1b6af408-2595-407f-b49a-3bed51f859c7"
      },
      "source": [
        "test_df = file_singapore.dropna(thresh=5, axis=0)\n",
        "test_df.head()"
      ],
      "execution_count": 16,
      "outputs": [
        {
          "output_type": "execute_result",
          "data": {
            "text/html": [
              "<div>\n",
              "<style scoped>\n",
              "    .dataframe tbody tr th:only-of-type {\n",
              "        vertical-align: middle;\n",
              "    }\n",
              "\n",
              "    .dataframe tbody tr th {\n",
              "        vertical-align: top;\n",
              "    }\n",
              "\n",
              "    .dataframe thead th {\n",
              "        text-align: right;\n",
              "    }\n",
              "</style>\n",
              "<table border=\"1\" class=\"dataframe\">\n",
              "  <thead>\n",
              "    <tr style=\"text-align: right;\">\n",
              "      <th></th>\n",
              "      <th>educationInfoForAgeGroupEstimation</th>\n",
              "      <th>workInfoForAgeGroupEstimation</th>\n",
              "      <th>gender</th>\n",
              "      <th>realAge</th>\n",
              "      <th>ageGroup</th>\n",
              "      <th>relationship</th>\n",
              "      <th>educationLevel</th>\n",
              "      <th>occupation</th>\n",
              "      <th>income</th>\n",
              "      <th>city</th>\n",
              "    </tr>\n",
              "  </thead>\n",
              "  <tbody>\n",
              "    <tr>\n",
              "      <th>2</th>\n",
              "      <td>St Patrick&amp;#039;s School, Singapore Class of 2...</td>\n",
              "      <td>NaN</td>\n",
              "      <td>male</td>\n",
              "      <td>NaN</td>\n",
              "      <td>AGE10_20</td>\n",
              "      <td>single</td>\n",
              "      <td>college</td>\n",
              "      <td>NaN</td>\n",
              "      <td>NaN</td>\n",
              "      <td>Singapore</td>\n",
              "    </tr>\n",
              "    <tr>\n",
              "      <th>5</th>\n",
              "      <td>Alok Study Group Bandung SMAK TRIMULIA Bandung...</td>\n",
              "      <td>NaN</td>\n",
              "      <td>male</td>\n",
              "      <td>27.0</td>\n",
              "      <td>AGE20_30</td>\n",
              "      <td>single</td>\n",
              "      <td>NaN</td>\n",
              "      <td>NaN</td>\n",
              "      <td>NaN</td>\n",
              "      <td>Singapore</td>\n",
              "    </tr>\n",
              "    <tr>\n",
              "      <th>10</th>\n",
              "      <td>Guangyang Secondary School Singapore</td>\n",
              "      <td>Singapore Armed Forces</td>\n",
              "      <td>male</td>\n",
              "      <td>NaN</td>\n",
              "      <td>NaN</td>\n",
              "      <td>NaN</td>\n",
              "      <td>school</td>\n",
              "      <td>NaN</td>\n",
              "      <td>NaN</td>\n",
              "      <td>Singapore</td>\n",
              "    </tr>\n",
              "    <tr>\n",
              "      <th>11</th>\n",
              "      <td>Ngee Ann Polytechnic Clementi, Singapore Yuan ...</td>\n",
              "      <td>NaN</td>\n",
              "      <td>female</td>\n",
              "      <td>NaN</td>\n",
              "      <td>AGE10_20</td>\n",
              "      <td>NaN</td>\n",
              "      <td>college</td>\n",
              "      <td>NaN</td>\n",
              "      <td>NaN</td>\n",
              "      <td>Singapore</td>\n",
              "    </tr>\n",
              "    <tr>\n",
              "      <th>13</th>\n",
              "      <td>CHIJ Toa Payoh Singapore CHIJ Secondary Toa Payoh</td>\n",
              "      <td>Marina Bay Sands Waitress  2012 to present</td>\n",
              "      <td>female</td>\n",
              "      <td>NaN</td>\n",
              "      <td>NaN</td>\n",
              "      <td>NaN</td>\n",
              "      <td>NaN</td>\n",
              "      <td>food preparation and service related</td>\n",
              "      <td>NaN</td>\n",
              "      <td>Singapore</td>\n",
              "    </tr>\n",
              "  </tbody>\n",
              "</table>\n",
              "</div>"
            ],
            "text/plain": [
              "                   educationInfoForAgeGroupEstimation  ...       city\n",
              "2   St Patrick&#039;s School, Singapore Class of 2...  ...  Singapore\n",
              "5   Alok Study Group Bandung SMAK TRIMULIA Bandung...  ...  Singapore\n",
              "10               Guangyang Secondary School Singapore  ...  Singapore\n",
              "11  Ngee Ann Polytechnic Clementi, Singapore Yuan ...  ...  Singapore\n",
              "13  CHIJ Toa Payoh Singapore CHIJ Secondary Toa Payoh  ...  Singapore\n",
              "\n",
              "[5 rows x 10 columns]"
            ]
          },
          "metadata": {
            "tags": []
          },
          "execution_count": 16
        }
      ]
    },
    {
      "cell_type": "code",
      "metadata": {
        "id": "oxwXLuBiMZpG",
        "colab_type": "code",
        "colab": {
          "base_uri": "https://localhost:8080/",
          "height": 296
        },
        "outputId": "3c1df780-da1d-4d0a-dcff-1c4a970aede7"
      },
      "source": [
        "sns.boxplot(test_df['realAge'])"
      ],
      "execution_count": 17,
      "outputs": [
        {
          "output_type": "execute_result",
          "data": {
            "text/plain": [
              "<matplotlib.axes._subplots.AxesSubplot at 0x7f9e71e50208>"
            ]
          },
          "metadata": {
            "tags": []
          },
          "execution_count": 17
        },
        {
          "output_type": "display_data",
          "data": {
            "image/png": "[encoded data removed]",
            "text/plain": [
              "<Figure size 432x288 with 1 Axes>"
            ]
          },
          "metadata": {
            "tags": []
          }
        }
      ]
    },
    {
      "cell_type": "code",
      "metadata": {
        "id": "oZrMZrfnRMMi",
        "colab_type": "code",
        "colab": {
          "base_uri": "https://localhost:8080/",
          "height": 34
        },
        "outputId": "a601b779-f2ae-4271-a32b-ce015f3f4b05"
      },
      "source": [
        "file_singapore['gender'].unique()"
      ],
      "execution_count": 18,
      "outputs": [
        {
          "output_type": "execute_result",
          "data": {
            "text/plain": [
              "array(['female', 'male', nan], dtype=object)"
            ]
          },
          "metadata": {
            "tags": []
          },
          "execution_count": 18
        }
      ]
    },
    {
      "cell_type": "markdown",
      "metadata": {
        "id": "ahdqhz7rQtMe",
        "colab_type": "text"
      },
      "source": [
        "### Data Pre Processing"
      ]
    },
    {
      "cell_type": "code",
      "metadata": {
        "id": "jRs0mCcxQfnE",
        "colab_type": "code",
        "colab": {}
      },
      "source": [
        "class PreProcessor:\n",
        "    \"\"\"\n",
        "    Takes a raw DataFrame as input and returns a cleaned and processor\n",
        "    \"\"\"\n",
        "    def __init__(self, nan_drop_threshold=5, train=True, gender_dict=gender_dict, age_group_dict=age_group_dict,\n",
        "                 city_dict=city_dict):\n",
        "        self.nan_drop_threshold = nan_drop_threshold\n",
        "        self.train = train\n",
        "        self.unknown_token = 'UNKNOWN'\n",
        "\n",
        "        # Label Encoder for Labels\n",
        "        self.gender_encoder = LabelEncoder()\n",
        "        self.age_group_encoder = LabelEncoder()\n",
        "        self.relationship_encoder = LabelEncoder()\n",
        "        self.education_encoder = LabelEncoder()\n",
        "        self.occupation_encoder = LabelEncoder()\n",
        "        self.income_encoder = LabelEncoder()\n",
        "        self.city_encoder = LabelEncoder()\n",
        "\n",
        "        # Count Vectorizer for Input Fields\n",
        "        self.cv = CountVectorizer()\n",
        "\n",
        "    def _clean_train(self, dataframe):\n",
        "\n",
        "        dataframe.dropna(thresh=5, axis=0, inplace=True)\n",
        "\n",
        "        # Unknown Tokens\n",
        "        dataframe.fillna(self.unknown_token, inplace=True)\n",
        "\n",
        "        # -------------------- Labels --------------------\n",
        "\n",
        "        # Quantize Gender\n",
        "        dataframe['gender'] = self.gender_encoder.fit_transform(dataframe['gender'])\n",
        "        \n",
        "        # Quantize known and UNKNOWN age groups\n",
        "        dataframe['ageGroup']= self.age_group_encoder.fit_transform(dataframe['ageGroup'])\n",
        "\n",
        "        # Qunatize Relationship\n",
        "        dataframe['relationship'] = self.relationship_encoder.fit_transform(dataframe['relationship'])\n",
        "\n",
        "        # Quantize Education level\n",
        "        dataframe['educationLevel'] = self.education_encoder.fit_transform(dataframe['educationLevel'])\n",
        "\n",
        "        # Quantize Occupation Level\n",
        "        dataframe['occupation'] = self.occupation_encoder.fit_transform(dataframe['occupation'])\n",
        "\n",
        "        # Quantize Income\n",
        "        dataframe['income'] = self.income_encoder.fit_transform(dataframe['income'])\n",
        "\n",
        "        # Quantize City\n",
        "        dataframe['city'] = self.city_encoder.fit_transform(dataframe['city'])\n",
        "\n",
        "        # ------------------- Training Fields ---------------\n",
        "\n",
        "        # Update educationInfoForAgeGroupEstimation to CountVectorizing\n",
        "        dataframe['educationInfoForAgeGroupEstimation'] = dataframe['educationInfoForAgeGroupEstimation'].str.lower()\n",
        "        # dataframe['educationInfoForAgeGroupEstimation'] = self.cv.fit_transform(dataframe['educationInfoForAgeGroupEstimation']).toarray()\n",
        "\n",
        "        # Update workInfoForAgeGroupEstimation to Count Vectorizing \n",
        "        dataframe['workInfoForAgeGroupEstimation'] = dataframe['workInfoForAgeGroupEstimation'].str.lower()\n",
        "        # dataframe['workInfoForAgeGroupEstimation'] = self.cv.fit_transform(dataframe['workInfoForAgeGroupEstimation']).toarray()\n",
        "\n",
        "        X_train = sp.hstack(dataframe[['educationInfoForAgeGroupEstimation', 'workInfoForAgeGroupEstimation']].apply(lambda col: self.cv.fit_transform(col)))\n",
        "        \n",
        "        # Drop Real Age\n",
        "        dataframe.drop(['realAge'], axis=1, inplace=True)\n",
        "\n",
        "        return X_train, dataframe\n",
        "\n",
        "\n",
        "    def _clean_test(self, dataframe):\n",
        "\n",
        "        # Unknown Tokens\n",
        "        dataframe.fillna(self.unknown_token, inplace=True)\n",
        "\n",
        "        # -------------------- Labels --------------------\n",
        "\n",
        "        # Quantize Gender\n",
        "        dataframe['gender'] = self.gender_encoder.transform(dataframe['gender'])\n",
        "        \n",
        "        # Quantize known and UNKNOWN age groups\n",
        "        dataframe['ageGroup']= self.age_group_encoder.transform(dataframe['ageGroup'])\n",
        "\n",
        "        # Qunatize Relationship\n",
        "        dataframe['relationship'] = self.relationship_encoder.transform(dataframe['relationship'])\n",
        "\n",
        "        # Quantize Education level\n",
        "        dataframe['educationLevel'] = self.education_encoder.transform(dataframe['educationLevel'])\n",
        "\n",
        "        # Quantize Occupation Level\n",
        "        dataframe['occupation'] = self.occupation_encoder.transform(dataframe['occupation'])\n",
        "\n",
        "        # Quantize Income\n",
        "        dataframe['income'] = self.income_encoder.transform(dataframe['income'])\n",
        "\n",
        "        # Quantize City\n",
        "        dataframe['city'] = self.city_encoder.transform(dataframe['city'])\n",
        "\n",
        "        # ------------------- Training Fields ---------------\n",
        "\n",
        "        # Update educationInfoForAgeGroupEstimation to CountVectorizing\n",
        "        # dataframe['educationInfoForAgeGroupEstimation'] = self.cv.transform(dataframe['educationInfoForAgeGroupEstimation'])\n",
        "\n",
        "        # Update workInfoForAgeGroupEstimation to Count Vectorizing \n",
        "        # dataframe['workInfoForAgeGroupEstimation'] = self.cv.transform(dataframe['workInfoForAgeGroupEstimation'])\n",
        "\n",
        "        X_test = sp.hstack(dataframe[['educationInfoForAgeGroupEstimation', 'workInfoForAgeGroupEstimation']].apply(lambda col: self.cv.transform(col)))\n",
        "\n",
        "        \n",
        "        # Drop Real Age\n",
        "        dataframe.drop(['realAge'], axis=1, inplace=True)\n",
        "\n",
        "        return X_test, dataframe\n",
        "\n",
        "    def fit(self, dataframe):\n",
        "        \"\"\"\n",
        "        The Clean method will clean the dataframe \n",
        "        Operations Performed:\n",
        "        * Remove the Rows with more than 5 nan's if Train set\n",
        "        * Mark NAN's with Unknown Tokens\n",
        "        * Replace Gender to numeric values\n",
        "        * Replace Age Group to numeric values\n",
        "        * Replace Relationship to numeric values\n",
        "        * Replace Education Level to numeric values\n",
        "        * Replace Occupation Level to numeric values\n",
        "        * Replace Income to numeric values\n",
        "        * Replace City to numeric values\n",
        "        * Count Vectorize Education Info\n",
        "        * Count Vectorize Work Info\n",
        "\n",
        "        Parameters:\n",
        "        dataframe: Pandas DataFrame\n",
        "\n",
        "        Output:\n",
        "        dataframe: Pandas DataFrame\n",
        "        \"\"\"\n",
        "\n",
        "        if self.train:\n",
        "            X, dataframe = self._clean_train(dataframe)\n",
        "        else:\n",
        "            X, dataframe = self._clean_test(dataframe)\n",
        "\n",
        "\n",
        "        return X, dataframe\n",
        "\n",
        "\n",
        "        \n"
      ],
      "execution_count": 0,
      "outputs": []
    },
    {
      "cell_type": "code",
      "metadata": {
        "id": "P--25QGbQ2Kw",
        "colab_type": "code",
        "colab": {}
      },
      "source": [
        "pre_processor_train = PreProcessor()"
      ],
      "execution_count": 0,
      "outputs": []
    },
    {
      "cell_type": "code",
      "metadata": {
        "id": "PYhLTp6AKPfd",
        "colab_type": "code",
        "colab": {}
      },
      "source": [
        "X_data, Y_data = pre_processor_train.fit(train_data)"
      ],
      "execution_count": 0,
      "outputs": []
    },
    {
      "cell_type": "code",
      "metadata": {
        "id": "Rp7OnStwJ_K9",
        "colab_type": "code",
        "colab": {}
      },
      "source": [
        "Y_data = Y_data.loc[:, ['gender', 'ageGroup', 'relationship',  'city']]"
      ],
      "execution_count": 0,
      "outputs": []
    },
    {
      "cell_type": "markdown",
      "metadata": {
        "id": "jJ3ZCtc1KMiZ",
        "colab_type": "text"
      },
      "source": [
        "## Classic ML Classifiers"
      ]
    },
    {
      "cell_type": "code",
      "metadata": {
        "id": "jEUXCq8zJWjB",
        "colab_type": "code",
        "colab": {}
      },
      "source": [
        "X_train, X_test, y_train, y_test = train_test_split(X_data, Y_data, test_size=0.2, random_state=SEED)"
      ],
      "execution_count": 0,
      "outputs": []
    },
    {
      "cell_type": "code",
      "metadata": {
        "id": "yNWXKErFORiw",
        "colab_type": "code",
        "colab": {
          "base_uri": "https://localhost:8080/",
          "height": 34
        },
        "outputId": "f9f75aeb-b80c-4b34-b2fe-f6f2df2e6f0c"
      },
      "source": [
        "X_train.shape, y_train.shape"
      ],
      "execution_count": 26,
      "outputs": [
        {
          "output_type": "execute_result",
          "data": {
            "text/plain": [
              "((2434, 19109), (2434, 4))"
            ]
          },
          "metadata": {
            "tags": []
          },
          "execution_count": 26
        }
      ]
    },
    {
      "cell_type": "markdown",
      "metadata": {
        "id": "LUPjMSCz1WPh",
        "colab_type": "text"
      },
      "source": [
        "### Support Vector Machines"
      ]
    },
    {
      "cell_type": "code",
      "metadata": {
        "id": "INrdYPjROpoB",
        "colab_type": "code",
        "colab": {}
      },
      "source": [
        "# Initialize SVC for all predictions\n",
        "gender_svm = SVC(kernel='poly')\n",
        "age_group_svm = SVC(kernel='rbf')\n",
        "relationship_svm = SVC(kernel='rbf')\n",
        "city_svm = SVC(kernel='rbf')"
      ],
      "execution_count": 0,
      "outputs": []
    },
    {
      "cell_type": "code",
      "metadata": {
        "id": "DzhAqg7hPEvZ",
        "colab_type": "code",
        "colab": {
          "base_uri": "https://localhost:8080/",
          "height": 241
        },
        "outputId": "73021743-287f-494a-9721-c384702c152d"
      },
      "source": [
        "gender_svm.fit(X_train, y_train['gender'])\n",
        "age_group_svm.fit(X_train, y_train['ageGroup'])\n",
        "relationship_svm.fit(X_train, y_train['relationship'])\n",
        "city_svm.fit(X_train, y_train['city'])"
      ],
      "execution_count": 46,
      "outputs": [
        {
          "output_type": "stream",
          "text": [
            "/usr/local/lib/python3.6/dist-packages/sklearn/svm/base.py:193: FutureWarning: The default value of gamma will change from 'auto' to 'scale' in version 0.22 to account better for unscaled features. Set gamma explicitly to 'auto' or 'scale' to avoid this warning.\n",
            "  \"avoid this warning.\", FutureWarning)\n",
            "/usr/local/lib/python3.6/dist-packages/sklearn/svm/base.py:193: FutureWarning: The default value of gamma will change from 'auto' to 'scale' in version 0.22 to account better for unscaled features. Set gamma explicitly to 'auto' or 'scale' to avoid this warning.\n",
            "  \"avoid this warning.\", FutureWarning)\n",
            "/usr/local/lib/python3.6/dist-packages/sklearn/svm/base.py:193: FutureWarning: The default value of gamma will change from 'auto' to 'scale' in version 0.22 to account better for unscaled features. Set gamma explicitly to 'auto' or 'scale' to avoid this warning.\n",
            "  \"avoid this warning.\", FutureWarning)\n",
            "/usr/local/lib/python3.6/dist-packages/sklearn/svm/base.py:193: FutureWarning: The default value of gamma will change from 'auto' to 'scale' in version 0.22 to account better for unscaled features. Set gamma explicitly to 'auto' or 'scale' to avoid this warning.\n",
            "  \"avoid this warning.\", FutureWarning)\n"
          ],
          "name": "stderr"
        },
        {
          "output_type": "execute_result",
          "data": {
            "text/plain": [
              "SVC(C=1.0, cache_size=200, class_weight=None, coef0=0.0,\n",
              "    decision_function_shape='ovr', degree=3, gamma='auto_deprecated',\n",
              "    kernel='rbf', max_iter=-1, probability=False, random_state=None,\n",
              "    shrinking=True, tol=0.001, verbose=False)"
            ]
          },
          "metadata": {
            "tags": []
          },
          "execution_count": 46
        }
      ]
    },
    {
      "cell_type": "code",
      "metadata": {
        "id": "GhwO10J2POFN",
        "colab_type": "code",
        "colab": {}
      },
      "source": [
        "gender_svm_output = gender_svm.predict(X_test)\n",
        "age_group_svm_output = age_group_svm.predict(X_test)\n",
        "relationship_svm_output = relationship_svm.predict(X_test)\n",
        "city_svm_output = city_svm.predict(X_test)"
      ],
      "execution_count": 0,
      "outputs": []
    },
    {
      "cell_type": "code",
      "metadata": {
        "id": "O9e9QnsESE4U",
        "colab_type": "code",
        "colab": {
          "base_uri": "https://localhost:8080/",
          "height": 51
        },
        "outputId": "28307a5d-79f4-4fda-ef79-cfc8ade9ea3a"
      },
      "source": [
        "gender_svm_f1 = f1_score(gender_svm_output, y_test['gender'], average='weighted')\n",
        "age_group_svm_f1 = f1_score(age_group_svm_output, y_test['ageGroup'], average='weighted')\n",
        "relationship_svm_f1 = f1_score(relationship_svm_output, y_test['relationship'], average='weighted')\n",
        "city_svm_f1 = f1_score(city_svm_output, y_test['city'], average='weighted')"
      ],
      "execution_count": 48,
      "outputs": [
        {
          "output_type": "stream",
          "text": [
            "/usr/local/lib/python3.6/dist-packages/sklearn/metrics/classification.py:1439: UndefinedMetricWarning: F-score is ill-defined and being set to 0.0 in labels with no true samples.\n",
            "  'recall', 'true', average, warn_for)\n"
          ],
          "name": "stderr"
        }
      ]
    },
    {
      "cell_type": "code",
      "metadata": {
        "id": "iDck5T1v0eWh",
        "colab_type": "code",
        "colab": {
          "base_uri": "https://localhost:8080/",
          "height": 102
        },
        "outputId": "2e245f21-7f8c-456a-e255-c39445540f19"
      },
      "source": [
        "print('-------------- F1 Matrices --------------')\n",
        "print('Gender: \\t\\t{:.4f}'.format(gender_svm_f1))\n",
        "print('AgeGroup: \\t\\t{:.4f}'.format(age_group_svm_f1))\n",
        "print('relationship_f1: \\t{:.4f}'.format(relationship_svm_f1))\n",
        "print('city_f1: \\t\\t{:.4f}'.format(city_svm_f1))"
      ],
      "execution_count": 49,
      "outputs": [
        {
          "output_type": "stream",
          "text": [
            "-------------- F1 Matrices --------------\n",
            "Gender: \t\t0.7672\n",
            "AgeGroup: \t\t0.7953\n",
            "relationship_f1: \t0.7339\n",
            "city_f1: \t\t0.7075\n"
          ],
          "name": "stdout"
        }
      ]
    },
    {
      "cell_type": "markdown",
      "metadata": {
        "id": "C1vHj8kE1aSo",
        "colab_type": "text"
      },
      "source": [
        "### Random Forest"
      ]
    },
    {
      "cell_type": "code",
      "metadata": {
        "id": "WW1Gj6R-XCK2",
        "colab_type": "code",
        "colab": {}
      },
      "source": [
        "# Initialize Random Forest Classifier for all predictions\n",
        "gender_rfc = RandomForestClassifier(n_estimators=1000, random_state=SEED)\n",
        "age_group_rfc = RandomForestClassifier(n_estimators=1000, random_state=SEED)\n",
        "relationship_rfc = RandomForestClassifier(n_estimators=1000, random_state=SEED)\n",
        "city_rfc = RandomForestClassifier(n_estimators=1000, random_state=SEED)"
      ],
      "execution_count": 0,
      "outputs": []
    },
    {
      "cell_type": "code",
      "metadata": {
        "id": "rhuVlv1612te",
        "colab_type": "code",
        "colab": {
          "base_uri": "https://localhost:8080/",
          "height": 136
        },
        "outputId": "e42d6609-0220-495a-b5dc-ce3b14338ec4"
      },
      "source": [
        "gender_rfc.fit(X_train, y_train['gender'])\n",
        "age_group_rfc.fit(X_train, y_train['ageGroup'])\n",
        "relationship_rfc.fit(X_train, y_train['relationship'])\n",
        "city_rfc.fit(X_train, y_train['city'])"
      ],
      "execution_count": 38,
      "outputs": [
        {
          "output_type": "execute_result",
          "data": {
            "text/plain": [
              "RandomForestClassifier(bootstrap=True, class_weight=None, criterion='gini',\n",
              "                       max_depth=None, max_features='auto', max_leaf_nodes=None,\n",
              "                       min_impurity_decrease=0.0, min_impurity_split=None,\n",
              "                       min_samples_leaf=1, min_samples_split=2,\n",
              "                       min_weight_fraction_leaf=0.0, n_estimators=1000,\n",
              "                       n_jobs=None, oob_score=False, random_state=1234,\n",
              "                       verbose=0, warm_start=False)"
            ]
          },
          "metadata": {
            "tags": []
          },
          "execution_count": 38
        }
      ]
    },
    {
      "cell_type": "code",
      "metadata": {
        "id": "_Ik29J2lYOEe",
        "colab_type": "code",
        "colab": {}
      },
      "source": [
        "gender_rfc_output = gender_rfc.predict(X_test)\n",
        "age_group_rfc_output = age_group_rfc.predict(X_test)\n",
        "relationship_rfc_output = relationship_rfc.predict(X_test)\n",
        "city_rfc_output = city_rfc.predict(X_test)"
      ],
      "execution_count": 0,
      "outputs": []
    },
    {
      "cell_type": "code",
      "metadata": {
        "id": "MBpLIeQh24HY",
        "colab_type": "code",
        "colab": {
          "base_uri": "https://localhost:8080/",
          "height": 51
        },
        "outputId": "def64778-afef-4583-827c-6de8af3a139f"
      },
      "source": [
        "gender_rfc_f1 = f1_score(gender_rfc_output, y_test['gender'], average='weighted')\n",
        "age_group_rfc_f1 = f1_score(age_group_rfc_output, y_test['ageGroup'], average='weighted')\n",
        "relationship_rfc_f1 = f1_score(relationship_rfc_output, y_test['relationship'], average='weighted')\n",
        "city_rfc_f1 = f1_score(city_rfc_output, y_test['city'], average='weighted')"
      ],
      "execution_count": 50,
      "outputs": [
        {
          "output_type": "stream",
          "text": [
            "/usr/local/lib/python3.6/dist-packages/sklearn/metrics/classification.py:1439: UndefinedMetricWarning: F-score is ill-defined and being set to 0.0 in labels with no true samples.\n",
            "  'recall', 'true', average, warn_for)\n"
          ],
          "name": "stderr"
        }
      ]
    },
    {
      "cell_type": "code",
      "metadata": {
        "id": "uRymi4QyYnGE",
        "colab_type": "code",
        "colab": {
          "base_uri": "https://localhost:8080/",
          "height": 102
        },
        "outputId": "2cdeacf7-8247-4419-ddea-e908aa776392"
      },
      "source": [
        "print('-------------- F1 Matrices --------------')\n",
        "print('Gender: \\t\\t{:.4f}'.format(gender_rfc_f1))\n",
        "print('AgeGroup: \\t\\t{:.4f}'.format(age_group_rfc_f1))\n",
        "print('relationship_f1: \\t{:.4f}'.format(relationship_rfc_f1))\n",
        "print('city_f1: \\t\\t{:.4f}'.format(city_rfc_f1))"
      ],
      "execution_count": 51,
      "outputs": [
        {
          "output_type": "stream",
          "text": [
            "-------------- F1 Matrices --------------\n",
            "Gender: \t\t0.7213\n",
            "AgeGroup: \t\t0.8255\n",
            "relationship_f1: \t0.6827\n",
            "city_f1: \t\t0.8461\n"
          ],
          "name": "stdout"
        }
      ]
    },
    {
      "cell_type": "markdown",
      "metadata": {
        "id": "fR6MJsC_5nem",
        "colab_type": "text"
      },
      "source": [
        "### Multi-Layer Preceptron"
      ]
    },
    {
      "cell_type": "code",
      "metadata": {
        "id": "osZ4EVxM3A-o",
        "colab_type": "code",
        "colab": {}
      },
      "source": [
        "# Initialize Random Forest Classifier for all predictions\n",
        "gender_mlp = MLPClassifier(verbose=True, early_stopping=True, n_iter_no_change=10)\n",
        "age_group_mlp = MLPClassifier(verbose=True, early_stopping=True, n_iter_no_change=10)\n",
        "relationship_mlp = MLPClassifier(verbose=True, early_stopping=True, n_iter_no_change=10)\n",
        "city_mlp = MLPClassifier(verbose=True, early_stopping=True, n_iter_no_change=10)"
      ],
      "execution_count": 0,
      "outputs": []
    },
    {
      "cell_type": "code",
      "metadata": {
        "id": "MGu3X87i6b57",
        "colab_type": "code",
        "colab": {}
      },
      "source": [
        "gender_mlp.fit(X_train, y_train['gender'])\n",
        "age_group_mlp.fit(X_train, y_train['ageGroup'])\n",
        "relationship_mlp.fit(X_train, y_train['relationship'])\n",
        "city_mlp.fit(X_train, y_train['city'])"
      ],
      "execution_count": 0,
      "outputs": []
    },
    {
      "cell_type": "code",
      "metadata": {
        "id": "GfXOWxDy6lTX",
        "colab_type": "code",
        "colab": {}
      },
      "source": [
        "gender_mlp_output = gender_mlp.predict(X_test)\n",
        "age_group_mlp_output = age_group_mlp.predict(X_test)\n",
        "relationship_mlp_output = relationship_mlp.predict(X_test)\n",
        "city_mlp_output = city_mlp.predict(X_test)"
      ],
      "execution_count": 0,
      "outputs": []
    },
    {
      "cell_type": "code",
      "metadata": {
        "id": "5YEQ3jlv7CF5",
        "colab_type": "code",
        "colab": {
          "base_uri": "https://localhost:8080/",
          "height": 51
        },
        "outputId": "c9fc5f8d-338d-43a7-c6f8-131005a19a2d"
      },
      "source": [
        "gender_mlp_f1 = f1_score(gender_mlp_output, y_test['gender'], average='weighted')\n",
        "age_group_mlp_f1 = f1_score(age_group_mlp_output, y_test['ageGroup'], average='weighted')\n",
        "relationship_mlp_f1 = f1_score(relationship_mlp_output, y_test['relationship'], average='weighted')\n",
        "city_mlp_f1 = f1_score(city_mlp_output, y_test['city'], average='weighted')"
      ],
      "execution_count": 58,
      "outputs": [
        {
          "output_type": "stream",
          "text": [
            "/usr/local/lib/python3.6/dist-packages/sklearn/metrics/classification.py:1439: UndefinedMetricWarning: F-score is ill-defined and being set to 0.0 in labels with no true samples.\n",
            "  'recall', 'true', average, warn_for)\n"
          ],
          "name": "stderr"
        }
      ]
    },
    {
      "cell_type": "code",
      "metadata": {
        "id": "atb-WjLI7Cfa",
        "colab_type": "code",
        "colab": {
          "base_uri": "https://localhost:8080/",
          "height": 102
        },
        "outputId": "4d374308-69c8-4f42-b746-d4b38a654b93"
      },
      "source": [
        "print('-------------- F1 Matrices --------------')\n",
        "print('Gender: \\t\\t{:.4f}'.format(gender_mlp_f1))\n",
        "print('AgeGroup: \\t\\t{:.4f}'.format(age_group_mlp_f1))\n",
        "print('relationship_f1: \\t{:.4f}'.format(relationship_mlp_f1))\n",
        "print('city_f1: \\t\\t{:.4f}'.format(city_mlp_f1))"
      ],
      "execution_count": 59,
      "outputs": [
        {
          "output_type": "stream",
          "text": [
            "-------------- F1 Matrices --------------\n",
            "Gender: \t\t0.6420\n",
            "AgeGroup: \t\t0.7822\n",
            "relationship_f1: \t0.6565\n",
            "city_f1: \t\t0.8673\n"
          ],
          "name": "stdout"
        }
      ]
    },
    {
      "cell_type": "markdown",
      "metadata": {
        "id": "nI9W3W0B8JB1",
        "colab_type": "text"
      },
      "source": [
        "## Ensembling Models"
      ]
    },
    {
      "cell_type": "code",
      "metadata": {
        "id": "te6MBvmI8Glp",
        "colab_type": "code",
        "colab": {}
      },
      "source": [
        ""
      ],
      "execution_count": 0,
      "outputs": []
    }
  ]
}